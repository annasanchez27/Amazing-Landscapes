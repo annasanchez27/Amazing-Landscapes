{
  "nbformat": 4,
  "nbformat_minor": 0,
  "metadata": {
    "accelerator": "GPU",
    "colab": {
      "name": "experiments_amazing.ipynb",
      "provenance": [],
      "collapsed_sections": [],
      "toc_visible": true,
      "authorship_tag": "ABX9TyMvmfMFOeUjBC00pyOb1jpd",
      "include_colab_link": true
    },
    "kernelspec": {
      "display_name": "Python 3",
      "name": "python3"
    },
    "language_info": {
      "name": "python"
    },
    "widgets": {
      "application/vnd.jupyter.widget-state+json": {
        "1d958e36f45a43e499f0cbf6237a9eb8": {
          "model_module": "@jupyter-widgets/controls",
          "model_name": "HBoxModel",
          "state": {
            "_dom_classes": [],
            "_model_module": "@jupyter-widgets/controls",
            "_model_module_version": "1.5.0",
            "_model_name": "HBoxModel",
            "_view_count": null,
            "_view_module": "@jupyter-widgets/controls",
            "_view_module_version": "1.5.0",
            "_view_name": "HBoxView",
            "box_style": "",
            "children": [
              "IPY_MODEL_8306fc5af04d4d7b800ff0a72e4fbb77",
              "IPY_MODEL_fd1a61becc8a401aa80c11c30c59fdcd"
            ],
            "layout": "IPY_MODEL_a9a20ab236734f1eb7c1f8eb6059c31d"
          }
        },
        "8306fc5af04d4d7b800ff0a72e4fbb77": {
          "model_module": "@jupyter-widgets/controls",
          "model_name": "FloatProgressModel",
          "state": {
            "_dom_classes": [],
            "_model_module": "@jupyter-widgets/controls",
            "_model_module_version": "1.5.0",
            "_model_name": "FloatProgressModel",
            "_view_count": null,
            "_view_module": "@jupyter-widgets/controls",
            "_view_module_version": "1.5.0",
            "_view_name": "ProgressView",
            "bar_style": "success",
            "description": "100%",
            "description_tooltip": null,
            "layout": "IPY_MODEL_39a26627dcc647aba0421b2e9e479f67",
            "max": 500,
            "min": 0,
            "orientation": "horizontal",
            "style": "IPY_MODEL_04365efb4c6a4dca8c2f5de4708c3bbb",
            "value": 500
          }
        },
        "fd1a61becc8a401aa80c11c30c59fdcd": {
          "model_module": "@jupyter-widgets/controls",
          "model_name": "HTMLModel",
          "state": {
            "_dom_classes": [],
            "_model_module": "@jupyter-widgets/controls",
            "_model_module_version": "1.5.0",
            "_model_name": "HTMLModel",
            "_view_count": null,
            "_view_module": "@jupyter-widgets/controls",
            "_view_module_version": "1.5.0",
            "_view_name": "HTMLView",
            "description": "",
            "description_tooltip": null,
            "layout": "IPY_MODEL_b0343315c2494623b7de321a110c8773",
            "placeholder": "​",
            "style": "IPY_MODEL_3884fbceeddb47cf8a597d6c789316c9",
            "value": " 500/500 [02:12&lt;00:00,  3.78it/s]"
          }
        },
        "a9a20ab236734f1eb7c1f8eb6059c31d": {
          "model_module": "@jupyter-widgets/base",
          "model_name": "LayoutModel",
          "state": {
            "_model_module": "@jupyter-widgets/base",
            "_model_module_version": "1.2.0",
            "_model_name": "LayoutModel",
            "_view_count": null,
            "_view_module": "@jupyter-widgets/base",
            "_view_module_version": "1.2.0",
            "_view_name": "LayoutView",
            "align_content": null,
            "align_items": null,
            "align_self": null,
            "border": null,
            "bottom": null,
            "display": null,
            "flex": null,
            "flex_flow": null,
            "grid_area": null,
            "grid_auto_columns": null,
            "grid_auto_flow": null,
            "grid_auto_rows": null,
            "grid_column": null,
            "grid_gap": null,
            "grid_row": null,
            "grid_template_areas": null,
            "grid_template_columns": null,
            "grid_template_rows": null,
            "height": null,
            "justify_content": null,
            "justify_items": null,
            "left": null,
            "margin": null,
            "max_height": null,
            "max_width": null,
            "min_height": null,
            "min_width": null,
            "object_fit": null,
            "object_position": null,
            "order": null,
            "overflow": null,
            "overflow_x": null,
            "overflow_y": null,
            "padding": null,
            "right": null,
            "top": null,
            "visibility": null,
            "width": null
          }
        },
        "39a26627dcc647aba0421b2e9e479f67": {
          "model_module": "@jupyter-widgets/base",
          "model_name": "LayoutModel",
          "state": {
            "_model_module": "@jupyter-widgets/base",
            "_model_module_version": "1.2.0",
            "_model_name": "LayoutModel",
            "_view_count": null,
            "_view_module": "@jupyter-widgets/base",
            "_view_module_version": "1.2.0",
            "_view_name": "LayoutView",
            "align_content": null,
            "align_items": null,
            "align_self": null,
            "border": null,
            "bottom": null,
            "display": null,
            "flex": null,
            "flex_flow": null,
            "grid_area": null,
            "grid_auto_columns": null,
            "grid_auto_flow": null,
            "grid_auto_rows": null,
            "grid_column": null,
            "grid_gap": null,
            "grid_row": null,
            "grid_template_areas": null,
            "grid_template_columns": null,
            "grid_template_rows": null,
            "height": null,
            "justify_content": null,
            "justify_items": null,
            "left": null,
            "margin": null,
            "max_height": null,
            "max_width": null,
            "min_height": null,
            "min_width": null,
            "object_fit": null,
            "object_position": null,
            "order": null,
            "overflow": null,
            "overflow_x": null,
            "overflow_y": null,
            "padding": null,
            "right": null,
            "top": null,
            "visibility": null,
            "width": null
          }
        },
        "04365efb4c6a4dca8c2f5de4708c3bbb": {
          "model_module": "@jupyter-widgets/controls",
          "model_name": "ProgressStyleModel",
          "state": {
            "_model_module": "@jupyter-widgets/controls",
            "_model_module_version": "1.5.0",
            "_model_name": "ProgressStyleModel",
            "_view_count": null,
            "_view_module": "@jupyter-widgets/base",
            "_view_module_version": "1.2.0",
            "_view_name": "StyleView",
            "bar_color": null,
            "description_width": "initial"
          }
        },
        "b0343315c2494623b7de321a110c8773": {
          "model_module": "@jupyter-widgets/base",
          "model_name": "LayoutModel",
          "state": {
            "_model_module": "@jupyter-widgets/base",
            "_model_module_version": "1.2.0",
            "_model_name": "LayoutModel",
            "_view_count": null,
            "_view_module": "@jupyter-widgets/base",
            "_view_module_version": "1.2.0",
            "_view_name": "LayoutView",
            "align_content": null,
            "align_items": null,
            "align_self": null,
            "border": null,
            "bottom": null,
            "display": null,
            "flex": null,
            "flex_flow": null,
            "grid_area": null,
            "grid_auto_columns": null,
            "grid_auto_flow": null,
            "grid_auto_rows": null,
            "grid_column": null,
            "grid_gap": null,
            "grid_row": null,
            "grid_template_areas": null,
            "grid_template_columns": null,
            "grid_template_rows": null,
            "height": null,
            "justify_content": null,
            "justify_items": null,
            "left": null,
            "margin": null,
            "max_height": null,
            "max_width": null,
            "min_height": null,
            "min_width": null,
            "object_fit": null,
            "object_position": null,
            "order": null,
            "overflow": null,
            "overflow_x": null,
            "overflow_y": null,
            "padding": null,
            "right": null,
            "top": null,
            "visibility": null,
            "width": null
          }
        },
        "3884fbceeddb47cf8a597d6c789316c9": {
          "model_module": "@jupyter-widgets/controls",
          "model_name": "DescriptionStyleModel",
          "state": {
            "_model_module": "@jupyter-widgets/controls",
            "_model_module_version": "1.5.0",
            "_model_name": "DescriptionStyleModel",
            "_view_count": null,
            "_view_module": "@jupyter-widgets/base",
            "_view_module_version": "1.2.0",
            "_view_name": "StyleView",
            "description_width": ""
          }
        },
        "470102fc2478474cb9d8e742593bcb95": {
          "model_module": "@jupyter-widgets/controls",
          "model_name": "HBoxModel",
          "state": {
            "_dom_classes": [],
            "_model_module": "@jupyter-widgets/controls",
            "_model_module_version": "1.5.0",
            "_model_name": "HBoxModel",
            "_view_count": null,
            "_view_module": "@jupyter-widgets/controls",
            "_view_module_version": "1.5.0",
            "_view_name": "HBoxView",
            "box_style": "",
            "children": [
              "IPY_MODEL_369d5248b9a04dbebdf56ae49d9ed0d5",
              "IPY_MODEL_e0d937bba08a4e2a825344db48692d3d"
            ],
            "layout": "IPY_MODEL_d8f5fe52b6824e18850ce6c4ac40688f"
          }
        },
        "369d5248b9a04dbebdf56ae49d9ed0d5": {
          "model_module": "@jupyter-widgets/controls",
          "model_name": "FloatProgressModel",
          "state": {
            "_dom_classes": [],
            "_model_module": "@jupyter-widgets/controls",
            "_model_module_version": "1.5.0",
            "_model_name": "FloatProgressModel",
            "_view_count": null,
            "_view_module": "@jupyter-widgets/controls",
            "_view_module_version": "1.5.0",
            "_view_name": "ProgressView",
            "bar_style": "success",
            "description": "100%",
            "description_tooltip": null,
            "layout": "IPY_MODEL_9b044f479ba44256afde3b4d9e2b0bea",
            "max": 500,
            "min": 0,
            "orientation": "horizontal",
            "style": "IPY_MODEL_0b8d43210fed4f8ebd765177152e86cf",
            "value": 500
          }
        },
        "e0d937bba08a4e2a825344db48692d3d": {
          "model_module": "@jupyter-widgets/controls",
          "model_name": "HTMLModel",
          "state": {
            "_dom_classes": [],
            "_model_module": "@jupyter-widgets/controls",
            "_model_module_version": "1.5.0",
            "_model_name": "HTMLModel",
            "_view_count": null,
            "_view_module": "@jupyter-widgets/controls",
            "_view_module_version": "1.5.0",
            "_view_name": "HTMLView",
            "description": "",
            "description_tooltip": null,
            "layout": "IPY_MODEL_915d41d9c58f4a668b17df2131e1931b",
            "placeholder": "​",
            "style": "IPY_MODEL_da015fa1ad1645afba1bf98e22d1db9f",
            "value": " 500/500 [22:08&lt;00:00,  2.66s/it]"
          }
        },
        "d8f5fe52b6824e18850ce6c4ac40688f": {
          "model_module": "@jupyter-widgets/base",
          "model_name": "LayoutModel",
          "state": {
            "_model_module": "@jupyter-widgets/base",
            "_model_module_version": "1.2.0",
            "_model_name": "LayoutModel",
            "_view_count": null,
            "_view_module": "@jupyter-widgets/base",
            "_view_module_version": "1.2.0",
            "_view_name": "LayoutView",
            "align_content": null,
            "align_items": null,
            "align_self": null,
            "border": null,
            "bottom": null,
            "display": null,
            "flex": null,
            "flex_flow": null,
            "grid_area": null,
            "grid_auto_columns": null,
            "grid_auto_flow": null,
            "grid_auto_rows": null,
            "grid_column": null,
            "grid_gap": null,
            "grid_row": null,
            "grid_template_areas": null,
            "grid_template_columns": null,
            "grid_template_rows": null,
            "height": null,
            "justify_content": null,
            "justify_items": null,
            "left": null,
            "margin": null,
            "max_height": null,
            "max_width": null,
            "min_height": null,
            "min_width": null,
            "object_fit": null,
            "object_position": null,
            "order": null,
            "overflow": null,
            "overflow_x": null,
            "overflow_y": null,
            "padding": null,
            "right": null,
            "top": null,
            "visibility": null,
            "width": null
          }
        },
        "9b044f479ba44256afde3b4d9e2b0bea": {
          "model_module": "@jupyter-widgets/base",
          "model_name": "LayoutModel",
          "state": {
            "_model_module": "@jupyter-widgets/base",
            "_model_module_version": "1.2.0",
            "_model_name": "LayoutModel",
            "_view_count": null,
            "_view_module": "@jupyter-widgets/base",
            "_view_module_version": "1.2.0",
            "_view_name": "LayoutView",
            "align_content": null,
            "align_items": null,
            "align_self": null,
            "border": null,
            "bottom": null,
            "display": null,
            "flex": null,
            "flex_flow": null,
            "grid_area": null,
            "grid_auto_columns": null,
            "grid_auto_flow": null,
            "grid_auto_rows": null,
            "grid_column": null,
            "grid_gap": null,
            "grid_row": null,
            "grid_template_areas": null,
            "grid_template_columns": null,
            "grid_template_rows": null,
            "height": null,
            "justify_content": null,
            "justify_items": null,
            "left": null,
            "margin": null,
            "max_height": null,
            "max_width": null,
            "min_height": null,
            "min_width": null,
            "object_fit": null,
            "object_position": null,
            "order": null,
            "overflow": null,
            "overflow_x": null,
            "overflow_y": null,
            "padding": null,
            "right": null,
            "top": null,
            "visibility": null,
            "width": null
          }
        },
        "0b8d43210fed4f8ebd765177152e86cf": {
          "model_module": "@jupyter-widgets/controls",
          "model_name": "ProgressStyleModel",
          "state": {
            "_model_module": "@jupyter-widgets/controls",
            "_model_module_version": "1.5.0",
            "_model_name": "ProgressStyleModel",
            "_view_count": null,
            "_view_module": "@jupyter-widgets/base",
            "_view_module_version": "1.2.0",
            "_view_name": "StyleView",
            "bar_color": null,
            "description_width": "initial"
          }
        },
        "915d41d9c58f4a668b17df2131e1931b": {
          "model_module": "@jupyter-widgets/base",
          "model_name": "LayoutModel",
          "state": {
            "_model_module": "@jupyter-widgets/base",
            "_model_module_version": "1.2.0",
            "_model_name": "LayoutModel",
            "_view_count": null,
            "_view_module": "@jupyter-widgets/base",
            "_view_module_version": "1.2.0",
            "_view_name": "LayoutView",
            "align_content": null,
            "align_items": null,
            "align_self": null,
            "border": null,
            "bottom": null,
            "display": null,
            "flex": null,
            "flex_flow": null,
            "grid_area": null,
            "grid_auto_columns": null,
            "grid_auto_flow": null,
            "grid_auto_rows": null,
            "grid_column": null,
            "grid_gap": null,
            "grid_row": null,
            "grid_template_areas": null,
            "grid_template_columns": null,
            "grid_template_rows": null,
            "height": null,
            "justify_content": null,
            "justify_items": null,
            "left": null,
            "margin": null,
            "max_height": null,
            "max_width": null,
            "min_height": null,
            "min_width": null,
            "object_fit": null,
            "object_position": null,
            "order": null,
            "overflow": null,
            "overflow_x": null,
            "overflow_y": null,
            "padding": null,
            "right": null,
            "top": null,
            "visibility": null,
            "width": null
          }
        },
        "da015fa1ad1645afba1bf98e22d1db9f": {
          "model_module": "@jupyter-widgets/controls",
          "model_name": "DescriptionStyleModel",
          "state": {
            "_model_module": "@jupyter-widgets/controls",
            "_model_module_version": "1.5.0",
            "_model_name": "DescriptionStyleModel",
            "_view_count": null,
            "_view_module": "@jupyter-widgets/base",
            "_view_module_version": "1.2.0",
            "_view_name": "StyleView",
            "description_width": ""
          }
        },
        "edee65174621474bb3e1009c837dc26e": {
          "model_module": "@jupyter-widgets/controls",
          "model_name": "HBoxModel",
          "state": {
            "_dom_classes": [],
            "_model_module": "@jupyter-widgets/controls",
            "_model_module_version": "1.5.0",
            "_model_name": "HBoxModel",
            "_view_count": null,
            "_view_module": "@jupyter-widgets/controls",
            "_view_module_version": "1.5.0",
            "_view_name": "HBoxView",
            "box_style": "",
            "children": [
              "IPY_MODEL_ab4917c801d3458c9aabbecade44e078",
              "IPY_MODEL_4df2216bb8e349f6be5d4c7c22500349"
            ],
            "layout": "IPY_MODEL_04745120a7624944a4128accbfb2e56d"
          }
        },
        "ab4917c801d3458c9aabbecade44e078": {
          "model_module": "@jupyter-widgets/controls",
          "model_name": "FloatProgressModel",
          "state": {
            "_dom_classes": [],
            "_model_module": "@jupyter-widgets/controls",
            "_model_module_version": "1.5.0",
            "_model_name": "FloatProgressModel",
            "_view_count": null,
            "_view_module": "@jupyter-widgets/controls",
            "_view_module_version": "1.5.0",
            "_view_name": "ProgressView",
            "bar_style": "success",
            "description": "100%",
            "description_tooltip": null,
            "layout": "IPY_MODEL_79a534dcc3e84d97addaf9d951600b98",
            "max": 500,
            "min": 0,
            "orientation": "horizontal",
            "style": "IPY_MODEL_f0f19b79e23d46ea93576d18880fd6e5",
            "value": 500
          }
        },
        "4df2216bb8e349f6be5d4c7c22500349": {
          "model_module": "@jupyter-widgets/controls",
          "model_name": "HTMLModel",
          "state": {
            "_dom_classes": [],
            "_model_module": "@jupyter-widgets/controls",
            "_model_module_version": "1.5.0",
            "_model_name": "HTMLModel",
            "_view_count": null,
            "_view_module": "@jupyter-widgets/controls",
            "_view_module_version": "1.5.0",
            "_view_name": "HTMLView",
            "description": "",
            "description_tooltip": null,
            "layout": "IPY_MODEL_9ccb89cc76ce4500928e5e74054914ac",
            "placeholder": "​",
            "style": "IPY_MODEL_c2cb82f7fb2e4ffc82f0121488adafbb",
            "value": " 500/500 [01:53&lt;00:00,  4.40it/s]"
          }
        },
        "04745120a7624944a4128accbfb2e56d": {
          "model_module": "@jupyter-widgets/base",
          "model_name": "LayoutModel",
          "state": {
            "_model_module": "@jupyter-widgets/base",
            "_model_module_version": "1.2.0",
            "_model_name": "LayoutModel",
            "_view_count": null,
            "_view_module": "@jupyter-widgets/base",
            "_view_module_version": "1.2.0",
            "_view_name": "LayoutView",
            "align_content": null,
            "align_items": null,
            "align_self": null,
            "border": null,
            "bottom": null,
            "display": null,
            "flex": null,
            "flex_flow": null,
            "grid_area": null,
            "grid_auto_columns": null,
            "grid_auto_flow": null,
            "grid_auto_rows": null,
            "grid_column": null,
            "grid_gap": null,
            "grid_row": null,
            "grid_template_areas": null,
            "grid_template_columns": null,
            "grid_template_rows": null,
            "height": null,
            "justify_content": null,
            "justify_items": null,
            "left": null,
            "margin": null,
            "max_height": null,
            "max_width": null,
            "min_height": null,
            "min_width": null,
            "object_fit": null,
            "object_position": null,
            "order": null,
            "overflow": null,
            "overflow_x": null,
            "overflow_y": null,
            "padding": null,
            "right": null,
            "top": null,
            "visibility": null,
            "width": null
          }
        },
        "79a534dcc3e84d97addaf9d951600b98": {
          "model_module": "@jupyter-widgets/base",
          "model_name": "LayoutModel",
          "state": {
            "_model_module": "@jupyter-widgets/base",
            "_model_module_version": "1.2.0",
            "_model_name": "LayoutModel",
            "_view_count": null,
            "_view_module": "@jupyter-widgets/base",
            "_view_module_version": "1.2.0",
            "_view_name": "LayoutView",
            "align_content": null,
            "align_items": null,
            "align_self": null,
            "border": null,
            "bottom": null,
            "display": null,
            "flex": null,
            "flex_flow": null,
            "grid_area": null,
            "grid_auto_columns": null,
            "grid_auto_flow": null,
            "grid_auto_rows": null,
            "grid_column": null,
            "grid_gap": null,
            "grid_row": null,
            "grid_template_areas": null,
            "grid_template_columns": null,
            "grid_template_rows": null,
            "height": null,
            "justify_content": null,
            "justify_items": null,
            "left": null,
            "margin": null,
            "max_height": null,
            "max_width": null,
            "min_height": null,
            "min_width": null,
            "object_fit": null,
            "object_position": null,
            "order": null,
            "overflow": null,
            "overflow_x": null,
            "overflow_y": null,
            "padding": null,
            "right": null,
            "top": null,
            "visibility": null,
            "width": null
          }
        },
        "f0f19b79e23d46ea93576d18880fd6e5": {
          "model_module": "@jupyter-widgets/controls",
          "model_name": "ProgressStyleModel",
          "state": {
            "_model_module": "@jupyter-widgets/controls",
            "_model_module_version": "1.5.0",
            "_model_name": "ProgressStyleModel",
            "_view_count": null,
            "_view_module": "@jupyter-widgets/base",
            "_view_module_version": "1.2.0",
            "_view_name": "StyleView",
            "bar_color": null,
            "description_width": "initial"
          }
        },
        "9ccb89cc76ce4500928e5e74054914ac": {
          "model_module": "@jupyter-widgets/base",
          "model_name": "LayoutModel",
          "state": {
            "_model_module": "@jupyter-widgets/base",
            "_model_module_version": "1.2.0",
            "_model_name": "LayoutModel",
            "_view_count": null,
            "_view_module": "@jupyter-widgets/base",
            "_view_module_version": "1.2.0",
            "_view_name": "LayoutView",
            "align_content": null,
            "align_items": null,
            "align_self": null,
            "border": null,
            "bottom": null,
            "display": null,
            "flex": null,
            "flex_flow": null,
            "grid_area": null,
            "grid_auto_columns": null,
            "grid_auto_flow": null,
            "grid_auto_rows": null,
            "grid_column": null,
            "grid_gap": null,
            "grid_row": null,
            "grid_template_areas": null,
            "grid_template_columns": null,
            "grid_template_rows": null,
            "height": null,
            "justify_content": null,
            "justify_items": null,
            "left": null,
            "margin": null,
            "max_height": null,
            "max_width": null,
            "min_height": null,
            "min_width": null,
            "object_fit": null,
            "object_position": null,
            "order": null,
            "overflow": null,
            "overflow_x": null,
            "overflow_y": null,
            "padding": null,
            "right": null,
            "top": null,
            "visibility": null,
            "width": null
          }
        },
        "c2cb82f7fb2e4ffc82f0121488adafbb": {
          "model_module": "@jupyter-widgets/controls",
          "model_name": "DescriptionStyleModel",
          "state": {
            "_model_module": "@jupyter-widgets/controls",
            "_model_module_version": "1.5.0",
            "_model_name": "DescriptionStyleModel",
            "_view_count": null,
            "_view_module": "@jupyter-widgets/base",
            "_view_module_version": "1.2.0",
            "_view_name": "StyleView",
            "description_width": ""
          }
        },
        "3b82331152374e0c87d7f379c883c973": {
          "model_module": "@jupyter-widgets/controls",
          "model_name": "HBoxModel",
          "state": {
            "_dom_classes": [],
            "_model_module": "@jupyter-widgets/controls",
            "_model_module_version": "1.5.0",
            "_model_name": "HBoxModel",
            "_view_count": null,
            "_view_module": "@jupyter-widgets/controls",
            "_view_module_version": "1.5.0",
            "_view_name": "HBoxView",
            "box_style": "",
            "children": [
              "IPY_MODEL_db71368b066547d88a051f9a50b1b7be",
              "IPY_MODEL_27c60ef9fbe34b6185d2fca136729c99"
            ],
            "layout": "IPY_MODEL_02427fef65a649c195f71a39c486566f"
          }
        },
        "db71368b066547d88a051f9a50b1b7be": {
          "model_module": "@jupyter-widgets/controls",
          "model_name": "FloatProgressModel",
          "state": {
            "_dom_classes": [],
            "_model_module": "@jupyter-widgets/controls",
            "_model_module_version": "1.5.0",
            "_model_name": "FloatProgressModel",
            "_view_count": null,
            "_view_module": "@jupyter-widgets/controls",
            "_view_module_version": "1.5.0",
            "_view_name": "ProgressView",
            "bar_style": "success",
            "description": "100%",
            "description_tooltip": null,
            "layout": "IPY_MODEL_864ea194c32b4c9f9a2641e1293e422b",
            "max": 500,
            "min": 0,
            "orientation": "horizontal",
            "style": "IPY_MODEL_d7d28288751545cbbb61f8e1f6c07540",
            "value": 500
          }
        },
        "27c60ef9fbe34b6185d2fca136729c99": {
          "model_module": "@jupyter-widgets/controls",
          "model_name": "HTMLModel",
          "state": {
            "_dom_classes": [],
            "_model_module": "@jupyter-widgets/controls",
            "_model_module_version": "1.5.0",
            "_model_name": "HTMLModel",
            "_view_count": null,
            "_view_module": "@jupyter-widgets/controls",
            "_view_module_version": "1.5.0",
            "_view_name": "HTMLView",
            "description": "",
            "description_tooltip": null,
            "layout": "IPY_MODEL_8c0543ecace04ad29b9308d4666071ab",
            "placeholder": "​",
            "style": "IPY_MODEL_38d487e8e7854701bc8126e3b8c57d6b",
            "value": " 500/500 [04:29&lt;00:00,  1.86it/s]"
          }
        },
        "02427fef65a649c195f71a39c486566f": {
          "model_module": "@jupyter-widgets/base",
          "model_name": "LayoutModel",
          "state": {
            "_model_module": "@jupyter-widgets/base",
            "_model_module_version": "1.2.0",
            "_model_name": "LayoutModel",
            "_view_count": null,
            "_view_module": "@jupyter-widgets/base",
            "_view_module_version": "1.2.0",
            "_view_name": "LayoutView",
            "align_content": null,
            "align_items": null,
            "align_self": null,
            "border": null,
            "bottom": null,
            "display": null,
            "flex": null,
            "flex_flow": null,
            "grid_area": null,
            "grid_auto_columns": null,
            "grid_auto_flow": null,
            "grid_auto_rows": null,
            "grid_column": null,
            "grid_gap": null,
            "grid_row": null,
            "grid_template_areas": null,
            "grid_template_columns": null,
            "grid_template_rows": null,
            "height": null,
            "justify_content": null,
            "justify_items": null,
            "left": null,
            "margin": null,
            "max_height": null,
            "max_width": null,
            "min_height": null,
            "min_width": null,
            "object_fit": null,
            "object_position": null,
            "order": null,
            "overflow": null,
            "overflow_x": null,
            "overflow_y": null,
            "padding": null,
            "right": null,
            "top": null,
            "visibility": null,
            "width": null
          }
        },
        "864ea194c32b4c9f9a2641e1293e422b": {
          "model_module": "@jupyter-widgets/base",
          "model_name": "LayoutModel",
          "state": {
            "_model_module": "@jupyter-widgets/base",
            "_model_module_version": "1.2.0",
            "_model_name": "LayoutModel",
            "_view_count": null,
            "_view_module": "@jupyter-widgets/base",
            "_view_module_version": "1.2.0",
            "_view_name": "LayoutView",
            "align_content": null,
            "align_items": null,
            "align_self": null,
            "border": null,
            "bottom": null,
            "display": null,
            "flex": null,
            "flex_flow": null,
            "grid_area": null,
            "grid_auto_columns": null,
            "grid_auto_flow": null,
            "grid_auto_rows": null,
            "grid_column": null,
            "grid_gap": null,
            "grid_row": null,
            "grid_template_areas": null,
            "grid_template_columns": null,
            "grid_template_rows": null,
            "height": null,
            "justify_content": null,
            "justify_items": null,
            "left": null,
            "margin": null,
            "max_height": null,
            "max_width": null,
            "min_height": null,
            "min_width": null,
            "object_fit": null,
            "object_position": null,
            "order": null,
            "overflow": null,
            "overflow_x": null,
            "overflow_y": null,
            "padding": null,
            "right": null,
            "top": null,
            "visibility": null,
            "width": null
          }
        },
        "d7d28288751545cbbb61f8e1f6c07540": {
          "model_module": "@jupyter-widgets/controls",
          "model_name": "ProgressStyleModel",
          "state": {
            "_model_module": "@jupyter-widgets/controls",
            "_model_module_version": "1.5.0",
            "_model_name": "ProgressStyleModel",
            "_view_count": null,
            "_view_module": "@jupyter-widgets/base",
            "_view_module_version": "1.2.0",
            "_view_name": "StyleView",
            "bar_color": null,
            "description_width": "initial"
          }
        },
        "8c0543ecace04ad29b9308d4666071ab": {
          "model_module": "@jupyter-widgets/base",
          "model_name": "LayoutModel",
          "state": {
            "_model_module": "@jupyter-widgets/base",
            "_model_module_version": "1.2.0",
            "_model_name": "LayoutModel",
            "_view_count": null,
            "_view_module": "@jupyter-widgets/base",
            "_view_module_version": "1.2.0",
            "_view_name": "LayoutView",
            "align_content": null,
            "align_items": null,
            "align_self": null,
            "border": null,
            "bottom": null,
            "display": null,
            "flex": null,
            "flex_flow": null,
            "grid_area": null,
            "grid_auto_columns": null,
            "grid_auto_flow": null,
            "grid_auto_rows": null,
            "grid_column": null,
            "grid_gap": null,
            "grid_row": null,
            "grid_template_areas": null,
            "grid_template_columns": null,
            "grid_template_rows": null,
            "height": null,
            "justify_content": null,
            "justify_items": null,
            "left": null,
            "margin": null,
            "max_height": null,
            "max_width": null,
            "min_height": null,
            "min_width": null,
            "object_fit": null,
            "object_position": null,
            "order": null,
            "overflow": null,
            "overflow_x": null,
            "overflow_y": null,
            "padding": null,
            "right": null,
            "top": null,
            "visibility": null,
            "width": null
          }
        },
        "38d487e8e7854701bc8126e3b8c57d6b": {
          "model_module": "@jupyter-widgets/controls",
          "model_name": "DescriptionStyleModel",
          "state": {
            "_model_module": "@jupyter-widgets/controls",
            "_model_module_version": "1.5.0",
            "_model_name": "DescriptionStyleModel",
            "_view_count": null,
            "_view_module": "@jupyter-widgets/base",
            "_view_module_version": "1.2.0",
            "_view_name": "StyleView",
            "description_width": ""
          }
        },
        "c17ebaaf3fb74b59a6078048817aa7f6": {
          "model_module": "@jupyter-widgets/controls",
          "model_name": "HBoxModel",
          "state": {
            "_view_name": "HBoxView",
            "_dom_classes": [],
            "_model_name": "HBoxModel",
            "_view_module": "@jupyter-widgets/controls",
            "_model_module_version": "1.5.0",
            "_view_count": null,
            "_view_module_version": "1.5.0",
            "box_style": "",
            "layout": "IPY_MODEL_977a3a3ed2f8451cbbdf93582a874fc2",
            "_model_module": "@jupyter-widgets/controls",
            "children": [
              "IPY_MODEL_7786328c9fa446369a341b45ff384c60",
              "IPY_MODEL_7417ef2f4f4c4e1cb058b035d3a93462"
            ]
          }
        },
        "977a3a3ed2f8451cbbdf93582a874fc2": {
          "model_module": "@jupyter-widgets/base",
          "model_name": "LayoutModel",
          "state": {
            "_view_name": "LayoutView",
            "grid_template_rows": null,
            "right": null,
            "justify_content": null,
            "_view_module": "@jupyter-widgets/base",
            "overflow": null,
            "_model_module_version": "1.2.0",
            "_view_count": null,
            "flex_flow": null,
            "width": null,
            "min_width": null,
            "border": null,
            "align_items": null,
            "bottom": null,
            "_model_module": "@jupyter-widgets/base",
            "top": null,
            "grid_column": null,
            "overflow_y": null,
            "overflow_x": null,
            "grid_auto_flow": null,
            "grid_area": null,
            "grid_template_columns": null,
            "flex": null,
            "_model_name": "LayoutModel",
            "justify_items": null,
            "grid_row": null,
            "max_height": null,
            "align_content": null,
            "visibility": null,
            "align_self": null,
            "height": null,
            "min_height": null,
            "padding": null,
            "grid_auto_rows": null,
            "grid_gap": null,
            "max_width": null,
            "order": null,
            "_view_module_version": "1.2.0",
            "grid_template_areas": null,
            "object_position": null,
            "object_fit": null,
            "grid_auto_columns": null,
            "margin": null,
            "display": null,
            "left": null
          }
        },
        "7786328c9fa446369a341b45ff384c60": {
          "model_module": "@jupyter-widgets/controls",
          "model_name": "FloatProgressModel",
          "state": {
            "_view_name": "ProgressView",
            "style": "IPY_MODEL_cc6c49b464a342a8897de84c7a77c9fc",
            "_dom_classes": [],
            "description": "100%",
            "_model_name": "FloatProgressModel",
            "bar_style": "success",
            "max": 500,
            "_view_module": "@jupyter-widgets/controls",
            "_model_module_version": "1.5.0",
            "value": 500,
            "_view_count": null,
            "_view_module_version": "1.5.0",
            "orientation": "horizontal",
            "min": 0,
            "description_tooltip": null,
            "_model_module": "@jupyter-widgets/controls",
            "layout": "IPY_MODEL_03b1b7d82abc4a68b142ab0801bc12a1"
          }
        },
        "7417ef2f4f4c4e1cb058b035d3a93462": {
          "model_module": "@jupyter-widgets/controls",
          "model_name": "HTMLModel",
          "state": {
            "_view_name": "HTMLView",
            "style": "IPY_MODEL_7cdb4b5c148045c384604301bcb2936d",
            "_dom_classes": [],
            "description": "",
            "_model_name": "HTMLModel",
            "placeholder": "​",
            "_view_module": "@jupyter-widgets/controls",
            "_model_module_version": "1.5.0",
            "value": " 500/500 [01:53&lt;00:00,  4.39it/s]",
            "_view_count": null,
            "_view_module_version": "1.5.0",
            "description_tooltip": null,
            "_model_module": "@jupyter-widgets/controls",
            "layout": "IPY_MODEL_4f61d0e0e8e441f2ba255dbb50ce495b"
          }
        },
        "cc6c49b464a342a8897de84c7a77c9fc": {
          "model_module": "@jupyter-widgets/controls",
          "model_name": "ProgressStyleModel",
          "state": {
            "_view_name": "StyleView",
            "_model_name": "ProgressStyleModel",
            "description_width": "initial",
            "_view_module": "@jupyter-widgets/base",
            "_model_module_version": "1.5.0",
            "_view_count": null,
            "_view_module_version": "1.2.0",
            "bar_color": null,
            "_model_module": "@jupyter-widgets/controls"
          }
        },
        "03b1b7d82abc4a68b142ab0801bc12a1": {
          "model_module": "@jupyter-widgets/base",
          "model_name": "LayoutModel",
          "state": {
            "_view_name": "LayoutView",
            "grid_template_rows": null,
            "right": null,
            "justify_content": null,
            "_view_module": "@jupyter-widgets/base",
            "overflow": null,
            "_model_module_version": "1.2.0",
            "_view_count": null,
            "flex_flow": null,
            "width": null,
            "min_width": null,
            "border": null,
            "align_items": null,
            "bottom": null,
            "_model_module": "@jupyter-widgets/base",
            "top": null,
            "grid_column": null,
            "overflow_y": null,
            "overflow_x": null,
            "grid_auto_flow": null,
            "grid_area": null,
            "grid_template_columns": null,
            "flex": null,
            "_model_name": "LayoutModel",
            "justify_items": null,
            "grid_row": null,
            "max_height": null,
            "align_content": null,
            "visibility": null,
            "align_self": null,
            "height": null,
            "min_height": null,
            "padding": null,
            "grid_auto_rows": null,
            "grid_gap": null,
            "max_width": null,
            "order": null,
            "_view_module_version": "1.2.0",
            "grid_template_areas": null,
            "object_position": null,
            "object_fit": null,
            "grid_auto_columns": null,
            "margin": null,
            "display": null,
            "left": null
          }
        },
        "7cdb4b5c148045c384604301bcb2936d": {
          "model_module": "@jupyter-widgets/controls",
          "model_name": "DescriptionStyleModel",
          "state": {
            "_view_name": "StyleView",
            "_model_name": "DescriptionStyleModel",
            "description_width": "",
            "_view_module": "@jupyter-widgets/base",
            "_model_module_version": "1.5.0",
            "_view_count": null,
            "_view_module_version": "1.2.0",
            "_model_module": "@jupyter-widgets/controls"
          }
        },
        "4f61d0e0e8e441f2ba255dbb50ce495b": {
          "model_module": "@jupyter-widgets/base",
          "model_name": "LayoutModel",
          "state": {
            "_view_name": "LayoutView",
            "grid_template_rows": null,
            "right": null,
            "justify_content": null,
            "_view_module": "@jupyter-widgets/base",
            "overflow": null,
            "_model_module_version": "1.2.0",
            "_view_count": null,
            "flex_flow": null,
            "width": null,
            "min_width": null,
            "border": null,
            "align_items": null,
            "bottom": null,
            "_model_module": "@jupyter-widgets/base",
            "top": null,
            "grid_column": null,
            "overflow_y": null,
            "overflow_x": null,
            "grid_auto_flow": null,
            "grid_area": null,
            "grid_template_columns": null,
            "flex": null,
            "_model_name": "LayoutModel",
            "justify_items": null,
            "grid_row": null,
            "max_height": null,
            "align_content": null,
            "visibility": null,
            "align_self": null,
            "height": null,
            "min_height": null,
            "padding": null,
            "grid_auto_rows": null,
            "grid_gap": null,
            "max_width": null,
            "order": null,
            "_view_module_version": "1.2.0",
            "grid_template_areas": null,
            "object_position": null,
            "object_fit": null,
            "grid_auto_columns": null,
            "margin": null,
            "display": null,
            "left": null
          }
        }
      }
    }
  },
  "cells": [
    {
      "cell_type": "markdown",
      "metadata": {
        "id": "view-in-github",
        "colab_type": "text"
      },
      "source": [
        "<a href=\"https://colab.research.google.com/github/franciscojferrari/Amazing-Landscapes/blob/experiments/experiments_amazing.ipynb\" target=\"_parent\"><img src=\"https://colab.research.google.com/assets/colab-badge.svg\" alt=\"Open In Colab\"/></a>"
      ]
    },
    {
      "cell_type": "code",
      "metadata": {
        "id": "8Lgxd_fJ4enX"
      },
      "source": [
        "import tensorflow_datasets as tfds\n",
        "import matplotlib.pyplot as plt\n",
        "import tensorflow as tf\n",
        "import importlib\n",
        "import yaml\n",
        "import os\n",
        "from google.colab import auth\n",
        "from pathlib import Path\n",
        "from tqdm import tqdm \n",
        "from PIL import Image"
      ],
      "execution_count": 1,
      "outputs": []
    },
    {
      "cell_type": "code",
      "metadata": {
        "colab": {
          "base_uri": "https://localhost:8080/"
        },
        "id": "PODsnmrAcYv6",
        "outputId": "f32b1da9-e3e2-4864-ecb3-97b977ebf302"
      },
      "source": [
        "!curl ipinfo.io"
      ],
      "execution_count": 2,
      "outputs": [
        {
          "output_type": "stream",
          "text": [
            "{\n",
            "  \"ip\": \"34.86.95.64\",\n",
            "  \"hostname\": \"64.95.86.34.bc.googleusercontent.com\",\n",
            "  \"city\": \"Washington\",\n",
            "  \"region\": \"Washington, D.C.\",\n",
            "  \"country\": \"US\",\n",
            "  \"loc\": \"38.8951,-77.0364\",\n",
            "  \"org\": \"AS15169 Google LLC\",\n",
            "  \"postal\": \"20045\",\n",
            "  \"timezone\": \"America/New_York\",\n",
            "  \"readme\": \"https://ipinfo.io/missingauth\"\n",
            "}"
          ],
          "name": "stdout"
        }
      ]
    },
    {
      "cell_type": "code",
      "metadata": {
        "id": "p2QDb68r4p4S"
      },
      "source": [
        "from google.colab import auth\n",
        "auth.authenticate_user()"
      ],
      "execution_count": 3,
      "outputs": []
    },
    {
      "cell_type": "code",
      "metadata": {
        "colab": {
          "base_uri": "https://localhost:8080/"
        },
        "id": "VNATumfM4vB3",
        "outputId": "5d93b068-0190-4ed0-9321-66f9c179c2d4"
      },
      "source": [
        "!echo \"deb http://packages.cloud.google.com/apt gcsfuse-bionic main\" > /etc/apt/sources.list.d/gcsfuse.list\n",
        "!curl https://packages.cloud.google.com/apt/doc/apt-key.gpg | apt-key add -\n",
        "!apt -qq update\n",
        "!apt -qq install gcsfuse"
      ],
      "execution_count": 4,
      "outputs": [
        {
          "output_type": "stream",
          "text": [
            "  % Total    % Received % Xferd  Average Speed   Time    Time     Time  Current\n",
            "                                 Dload  Upload   Total   Spent    Left  Speed\n",
            "\r  0     0    0     0    0     0      0      0 --:--:-- --:--:-- --:--:--     0\r100  2537  100  2537    0     0  90607      0 --:--:-- --:--:-- --:--:-- 90607\n",
            "OK\n",
            "74 packages can be upgraded. Run 'apt list --upgradable' to see them.\n",
            "The following package was automatically installed and is no longer required:\n",
            "  libnvidia-common-460\n",
            "Use 'apt autoremove' to remove it.\n",
            "The following NEW packages will be installed:\n",
            "  gcsfuse\n",
            "0 upgraded, 1 newly installed, 0 to remove and 74 not upgraded.\n",
            "Need to get 10.8 MB of archives.\n",
            "After this operation, 23.1 MB of additional disk space will be used.\n",
            "Selecting previously unselected package gcsfuse.\n",
            "(Reading database ... 160706 files and directories currently installed.)\n",
            "Preparing to unpack .../gcsfuse_0.35.0_amd64.deb ...\n",
            "Unpacking gcsfuse (0.35.0) ...\n",
            "Setting up gcsfuse (0.35.0) ...\n"
          ],
          "name": "stdout"
        }
      ]
    },
    {
      "cell_type": "code",
      "metadata": {
        "colab": {
          "base_uri": "https://localhost:8080/"
        },
        "id": "w5sNFrsK42Wh",
        "outputId": "2e92bd1c-ad92-47c6-83b5-2cbb3d3cb552"
      },
      "source": [
        "!mkdir dataset\n",
        "!gcsfuse --implicit-dirs spade_dataset dataset"
      ],
      "execution_count": 5,
      "outputs": [
        {
          "output_type": "stream",
          "text": [
            "2021/05/22 13:14:31.905189 Using mount point: /content/dataset\n",
            "2021/05/22 13:14:31.913349 Opening GCS connection...\n",
            "2021/05/22 13:14:32.092950 Mounting file system \"spade_dataset\"...\n",
            "2021/05/22 13:14:32.124940 File system has been successfully mounted.\n"
          ],
          "name": "stdout"
        }
      ]
    },
    {
      "cell_type": "code",
      "metadata": {
        "id": "3YTBv3eM6tr5"
      },
      "source": [
        "GENERATED_VALIDATION_PATH = \"/content/dataset/generated_images/cityscape/val/\""
      ],
      "execution_count": 6,
      "outputs": []
    },
    {
      "cell_type": "markdown",
      "metadata": {
        "id": "P52R2e_M6hQV"
      },
      "source": [
        "Create txt file with the path of the generated images"
      ]
    },
    {
      "cell_type": "code",
      "metadata": {
        "id": "TODYTXB04_iK"
      },
      "source": [
        "import os\n",
        "def get_url_list(files):\n",
        "  for x in files:\n",
        "    if x[-4:] == \"jpeg\":\n",
        "      yield GENERATED_VALIDATION_PATH + x + '\\n'\n",
        "\n",
        "file_url = list(get_url_list(os.listdir(GENERATED_VALIDATION_PATH)))"
      ],
      "execution_count": null,
      "outputs": []
    },
    {
      "cell_type": "code",
      "metadata": {
        "id": "6l6V4RND6frt"
      },
      "source": [
        "f = open(GENERATED_VALIDATION_PATH + \"test_images.txt\",\"w\")\n",
        "f.writelines(file_url)\n",
        "f.close()"
      ],
      "execution_count": null,
      "outputs": []
    },
    {
      "cell_type": "markdown",
      "metadata": {
        "id": "Gy_HymaJ89VD"
      },
      "source": [
        "Using pre-trained model DRN to create segmentation mask for the generated images"
      ]
    },
    {
      "cell_type": "code",
      "metadata": {
        "colab": {
          "base_uri": "https://localhost:8080/"
        },
        "id": "TKdudS7N81dz",
        "outputId": "1d77efb5-fc4b-4cd5-e8cf-7cc3a613b1c2"
      },
      "source": [
        "! git clone https://github.com/fyu/drn.git"
      ],
      "execution_count": null,
      "outputs": [
        {
          "output_type": "stream",
          "text": [
            "Cloning into 'drn'...\n",
            "remote: Enumerating objects: 203, done.\u001b[K\n",
            "remote: Total 203 (delta 0), reused 0 (delta 0), pack-reused 203\u001b[K\n",
            "Receiving objects: 100% (203/203), 521.11 KiB | 26.05 MiB/s, done.\n",
            "Resolving deltas: 100% (103/103), done.\n"
          ],
          "name": "stdout"
        }
      ]
    },
    {
      "cell_type": "code",
      "metadata": {
        "colab": {
          "base_uri": "https://localhost:8080/"
        },
        "id": "NuBkeSoA7i9j",
        "outputId": "db221ed4-eb46-4e1c-f1a0-4b63de1b36bb"
      },
      "source": [
        "import sys\n",
        "! {sys.executable} -m pip install -r drn/requirements.txt"
      ],
      "execution_count": null,
      "outputs": [
        {
          "output_type": "stream",
          "text": [
            "Requirement already satisfied: numpy in /usr/local/lib/python3.7/dist-packages (from -r drn/requirements.txt (line 1)) (1.19.5)\n",
            "Requirement already satisfied: pillow in /usr/local/lib/python3.7/dist-packages (from -r drn/requirements.txt (line 2)) (7.1.2)\n"
          ],
          "name": "stdout"
        }
      ]
    },
    {
      "cell_type": "code",
      "metadata": {
        "colab": {
          "base_uri": "https://localhost:8080/"
        },
        "id": "Aif1JQPI9JZJ",
        "outputId": "355f5ba7-d4f6-44ed-c578-517a69d71e3c"
      },
      "source": [
        "from google.colab import drive\n",
        "drive.mount('/content/gdrive')"
      ],
      "execution_count": null,
      "outputs": [
        {
          "output_type": "stream",
          "text": [
            "Mounted at /content/gdrive\n"
          ],
          "name": "stdout"
        }
      ]
    },
    {
      "cell_type": "code",
      "metadata": {
        "id": "KvMFJHslbD92"
      },
      "source": [
        "! chmod +x /content/dataset/generated_images/cityscape"
      ],
      "execution_count": null,
      "outputs": []
    },
    {
      "cell_type": "code",
      "metadata": {
        "id": "e2owgeI89YY5"
      },
      "source": [
        "! python3 drn/segment.py test -d drn/datasets/cityscapes -l $GENERATED_VALIDATION_PATH \\\n",
        "-c 19 --arch drn_d_22 --pretrained /content/gdrive/MyDrive/cityscapes/drn_d_22_cityscapes.pth --phase test --batch-size 1"
      ],
      "execution_count": null,
      "outputs": []
    },
    {
      "cell_type": "code",
      "metadata": {
        "id": "EztsaiwpkBF7"
      },
      "source": [
        "for file in tqdm(os.listdir(PATH)):\n",
        "  if file.endswith(\".png\"):\n",
        "    dst_path = PATH + '.'.join(file.split('..'))\n",
        "    os.rename(PATH + file, dst_path)"
      ],
      "execution_count": null,
      "outputs": []
    },
    {
      "cell_type": "code",
      "metadata": {
        "id": "FEWT5mVm90uO"
      },
      "source": [
        "PATH_gtmask = \"/content/dataset/cityscape/gtfine/gtFine/val/\""
      ],
      "execution_count": null,
      "outputs": []
    },
    {
      "cell_type": "code",
      "metadata": {
        "colab": {
          "base_uri": "https://localhost:8080/"
        },
        "id": "H2VmHZ4gFNwB",
        "outputId": "3d4909be-4f34-417f-a04b-cc11db59c869"
      },
      "source": [
        "gt_masks = []\n",
        "for (dir_path, _, file_names) in os.walk(PATH_gtmask):\n",
        "  gt_masks.extend([dir_path+ \"/\" + file_mask for file_mask in file_names if file_mask.endswith(\"_gtFine_color.png\")])\n",
        "len(gt_masks)"
      ],
      "execution_count": null,
      "outputs": [
        {
          "output_type": "execute_result",
          "data": {
            "text/plain": [
              "500"
            ]
          },
          "metadata": {
            "tags": []
          },
          "execution_count": 20
        }
      ]
    },
    {
      "cell_type": "code",
      "metadata": {
        "colab": {
          "base_uri": "https://localhost:8080/"
        },
        "id": "H3V9YctYIPRa",
        "outputId": "056d85aa-7c87-4760-9d7f-90af2f66cddf"
      },
      "source": [
        "generated_masks = [PATH + mask for mask in os.listdir(PATH) if mask.endswith(\".png\")]\n",
        "len(generated_masks)"
      ],
      "execution_count": null,
      "outputs": [
        {
          "output_type": "execute_result",
          "data": {
            "text/plain": [
              "500"
            ]
          },
          "metadata": {
            "tags": []
          },
          "execution_count": 21
        }
      ]
    },
    {
      "cell_type": "code",
      "metadata": {
        "colab": {
          "base_uri": "https://localhost:8080/"
        },
        "id": "hyKYpKYPJCU2",
        "outputId": "6e868269-eb23-437d-e1d4-d1956aa65898"
      },
      "source": [
        "file_mask = list(zip(sorted(gt_masks), sorted(generated_masks)))\n",
        "file_mask[0]"
      ],
      "execution_count": null,
      "outputs": [
        {
          "output_type": "execute_result",
          "data": {
            "text/plain": [
              "('/content/dataset/cityscape/gtfine/gtFine/val/frankfurt/frankfurt_000000_000294_gtFine_color.png',\n",
              " '/content/dataset/generated_images/cityscape/val/frankfurt_000000_000294.png')"
            ]
          },
          "metadata": {
            "tags": []
          },
          "execution_count": 22
        }
      ]
    },
    {
      "cell_type": "code",
      "metadata": {
        "colab": {
          "base_uri": "https://localhost:8080/",
          "height": 137,
          "referenced_widgets": [
            "1d958e36f45a43e499f0cbf6237a9eb8",
            "8306fc5af04d4d7b800ff0a72e4fbb77",
            "fd1a61becc8a401aa80c11c30c59fdcd",
            "a9a20ab236734f1eb7c1f8eb6059c31d",
            "39a26627dcc647aba0421b2e9e479f67",
            "04365efb4c6a4dca8c2f5de4708c3bbb",
            "b0343315c2494623b7de321a110c8773",
            "3884fbceeddb47cf8a597d6c789316c9"
          ]
        },
        "id": "T_DH0ucoJsgT",
        "outputId": "b6dba076-d149-4d90-90fe-05a1c6395765"
      },
      "source": [
        "from PIL import Image\n",
        "import numpy as np\n",
        "import miou as m\n",
        "import importlib\n",
        "import pixelacc as p\n",
        "from tqdm import tqdm_notebook as tqdm\n",
        "\n",
        "importlib.reload(m)\n",
        "importlib.reload(p)\n",
        "\n",
        "\n",
        "miou = []\n",
        "acc = []\n",
        "fid = []\n",
        "gen_list = []\n",
        "gt_list = []\n",
        "for gt_path, gen_path in tqdm(file_mask):\n",
        "  gen_image = Image.open(gen_path)\n",
        "  gen_array = np.asarray(gen_image)\n",
        "  gt_image = Image.open(gt_path)\n",
        "  gt_image = gt_image.convert(\"RGB\").resize(gen_image.size,resample=Image.NEAREST)\n",
        "  gt_array = np.asarray(gt_image)\n",
        "  miou.append(m.calculate_miou(gen_array,gt_array))\n",
        "  acc.append(p.pixel_accuracy(gen_array,gt_array))\n",
        "  gen_list.append(gen_array)\n",
        "  gt_list.append(gt_array)\n",
        "\n",
        "gen_list = np.array(gen_list)\n",
        "gt_list = np.array(gt_list)"
      ],
      "execution_count": null,
      "outputs": [
        {
          "output_type": "stream",
          "text": [
            "Accuracy 0.12376666666666666\n"
          ],
          "name": "stdout"
        },
        {
          "output_type": "stream",
          "text": [
            "/usr/local/lib/python3.7/dist-packages/ipykernel_launcher.py:17: TqdmDeprecationWarning: This function will be removed in tqdm==5.0.0\n",
            "Please use `tqdm.notebook.tqdm` instead of `tqdm.tqdm_notebook`\n"
          ],
          "name": "stderr"
        },
        {
          "output_type": "display_data",
          "data": {
            "application/vnd.jupyter.widget-view+json": {
              "model_id": "1d958e36f45a43e499f0cbf6237a9eb8",
              "version_major": 2,
              "version_minor": 0
            },
            "text/plain": [
              "HBox(children=(FloatProgress(value=0.0, max=500.0), HTML(value='')))"
            ]
          },
          "metadata": {
            "tags": []
          }
        },
        {
          "output_type": "stream",
          "text": [
            "\n"
          ],
          "name": "stdout"
        }
      ]
    },
    {
      "cell_type": "code",
      "metadata": {
        "colab": {
          "base_uri": "https://localhost:8080/"
        },
        "id": "IQ7vN4pJrG10",
        "outputId": "9bc3ab91-cd24-47ed-8dd1-baae0c110948"
      },
      "source": [
        "!pip install tensorflow_gan"
      ],
      "execution_count": null,
      "outputs": [
        {
          "output_type": "stream",
          "text": [
            "Collecting tensorflow_gan\n",
            "\u001b[?25l  Downloading https://files.pythonhosted.org/packages/0c/2e/62922111d7d50e1900e3030764743ea7735540ce103b3ab30fd5cd2d8a2b/tensorflow_gan-2.0.0-py2.py3-none-any.whl (365kB)\n",
            "\r\u001b[K     |█                               | 10kB 21.1MB/s eta 0:00:01\r\u001b[K     |█▉                              | 20kB 24.3MB/s eta 0:00:01\r\u001b[K     |██▊                             | 30kB 27.1MB/s eta 0:00:01\r\u001b[K     |███▋                            | 40kB 28.6MB/s eta 0:00:01\r\u001b[K     |████▌                           | 51kB 29.7MB/s eta 0:00:01\r\u001b[K     |█████▍                          | 61kB 30.4MB/s eta 0:00:01\r\u001b[K     |██████▎                         | 71kB 30.4MB/s eta 0:00:01\r\u001b[K     |███████▏                        | 81kB 29.1MB/s eta 0:00:01\r\u001b[K     |████████                        | 92kB 30.4MB/s eta 0:00:01\r\u001b[K     |█████████                       | 102kB 31.9MB/s eta 0:00:01\r\u001b[K     |█████████▉                      | 112kB 31.9MB/s eta 0:00:01\r\u001b[K     |██████████▊                     | 122kB 31.9MB/s eta 0:00:01\r\u001b[K     |███████████▋                    | 133kB 31.9MB/s eta 0:00:01\r\u001b[K     |████████████▋                   | 143kB 31.9MB/s eta 0:00:01\r\u001b[K     |█████████████▌                  | 153kB 31.9MB/s eta 0:00:01\r\u001b[K     |██████████████▍                 | 163kB 31.9MB/s eta 0:00:01\r\u001b[K     |███████████████▎                | 174kB 31.9MB/s eta 0:00:01\r\u001b[K     |████████████████▏               | 184kB 31.9MB/s eta 0:00:01\r\u001b[K     |█████████████████               | 194kB 31.9MB/s eta 0:00:01\r\u001b[K     |██████████████████              | 204kB 31.9MB/s eta 0:00:01\r\u001b[K     |██████████████████▉             | 215kB 31.9MB/s eta 0:00:01\r\u001b[K     |███████████████████▊            | 225kB 31.9MB/s eta 0:00:01\r\u001b[K     |████████████████████▋           | 235kB 31.9MB/s eta 0:00:01\r\u001b[K     |█████████████████████▌          | 245kB 31.9MB/s eta 0:00:01\r\u001b[K     |██████████████████████▍         | 256kB 31.9MB/s eta 0:00:01\r\u001b[K     |███████████████████████▎        | 266kB 31.9MB/s eta 0:00:01\r\u001b[K     |████████████████████████▎       | 276kB 31.9MB/s eta 0:00:01\r\u001b[K     |█████████████████████████▏      | 286kB 31.9MB/s eta 0:00:01\r\u001b[K     |██████████████████████████      | 296kB 31.9MB/s eta 0:00:01\r\u001b[K     |███████████████████████████     | 307kB 31.9MB/s eta 0:00:01\r\u001b[K     |███████████████████████████▉    | 317kB 31.9MB/s eta 0:00:01\r\u001b[K     |████████████████████████████▊   | 327kB 31.9MB/s eta 0:00:01\r\u001b[K     |█████████████████████████████▋  | 337kB 31.9MB/s eta 0:00:01\r\u001b[K     |██████████████████████████████▌ | 348kB 31.9MB/s eta 0:00:01\r\u001b[K     |███████████████████████████████▍| 358kB 31.9MB/s eta 0:00:01\r\u001b[K     |████████████████████████████████| 368kB 31.9MB/s \n",
            "\u001b[?25hRequirement already satisfied: tensorflow-probability>=0.7 in /usr/local/lib/python3.7/dist-packages (from tensorflow_gan) (0.12.1)\n",
            "Requirement already satisfied: tensorflow-hub>=0.2 in /usr/local/lib/python3.7/dist-packages (from tensorflow_gan) (0.12.0)\n",
            "Requirement already satisfied: six>=1.10.0 in /usr/local/lib/python3.7/dist-packages (from tensorflow-probability>=0.7->tensorflow_gan) (1.15.0)\n",
            "Requirement already satisfied: cloudpickle>=1.3 in /usr/local/lib/python3.7/dist-packages (from tensorflow-probability>=0.7->tensorflow_gan) (1.3.0)\n",
            "Requirement already satisfied: decorator in /usr/local/lib/python3.7/dist-packages (from tensorflow-probability>=0.7->tensorflow_gan) (4.4.2)\n",
            "Requirement already satisfied: dm-tree in /usr/local/lib/python3.7/dist-packages (from tensorflow-probability>=0.7->tensorflow_gan) (0.1.6)\n",
            "Requirement already satisfied: numpy>=1.13.3 in /usr/local/lib/python3.7/dist-packages (from tensorflow-probability>=0.7->tensorflow_gan) (1.19.5)\n",
            "Requirement already satisfied: gast>=0.3.2 in /usr/local/lib/python3.7/dist-packages (from tensorflow-probability>=0.7->tensorflow_gan) (0.3.3)\n",
            "Requirement already satisfied: protobuf>=3.8.0 in /usr/local/lib/python3.7/dist-packages (from tensorflow-hub>=0.2->tensorflow_gan) (3.12.4)\n",
            "Requirement already satisfied: setuptools in /usr/local/lib/python3.7/dist-packages (from protobuf>=3.8.0->tensorflow-hub>=0.2->tensorflow_gan) (56.1.0)\n",
            "Installing collected packages: tensorflow-gan\n",
            "Successfully installed tensorflow-gan-2.0.0\n"
          ],
          "name": "stdout"
        }
      ]
    },
    {
      "cell_type": "code",
      "metadata": {
        "colab": {
          "base_uri": "https://localhost:8080/"
        },
        "id": "SdDufvYDnXGR",
        "outputId": "fed9c6a0-fd21-4c07-862a-7c1014468399"
      },
      "source": [
        "#first_elem = [x[0] for x in file_mask]\n",
        "#second_elem = [x[1] for x in file_mask]\n",
        "import importlib\n",
        "import FID as f\n",
        "\n",
        "importlib.reload(f)\n",
        "\n",
        "fid = f.run_fid(gen_list,gt_list)\n",
        "print(\"FID is\", fid)\n",
        "m.calculate_miou(gen_list,gt_list)\n",
        "\n",
        "#Final miou\n",
        "miou = np.mean(miou)\n",
        "acc = np.mean(acc)\n",
        "print(\"MIOU: \",miou)\n",
        "print(\"Accuracy\", acc)"
      ],
      "execution_count": null,
      "outputs": [
        {
          "output_type": "stream",
          "text": [
            "FID is 1367.5575210870832\n"
          ],
          "name": "stdout"
        },
        {
          "output_type": "execute_result",
          "data": {
            "text/plain": [
              "0.13960056"
            ]
          },
          "metadata": {
            "tags": []
          },
          "execution_count": 70
        }
      ]
    },
    {
      "cell_type": "markdown",
      "metadata": {
        "id": "cBcEak2S4d2Z"
      },
      "source": [
        "## Experiment 2: Generate ground truth mask"
      ]
    },
    {
      "cell_type": "code",
      "metadata": {
        "colab": {
          "base_uri": "https://localhost:8080/"
        },
        "id": "XHEiRiFjuPJj",
        "outputId": "fd727fb2-decb-4580-c1a6-84cf3574cb76"
      },
      "source": [
        "ORIGINAL_VALIDATION_PATH = \"/content/dataset/cityscape/trainvaltest/leftImg8bit/val/\"\n",
        "file_url = []\n",
        "for (dir_path, _, file_names) in os.walk(ORIGINAL_VALIDATION_PATH):\n",
        "  file_url.extend([dir_path+ \"/\" + file_mask for file_mask in file_names if file_mask.endswith(\".png\")])\n",
        "len(file_url)"
      ],
      "execution_count": null,
      "outputs": [
        {
          "output_type": "execute_result",
          "data": {
            "text/plain": [
              "500"
            ]
          },
          "metadata": {
            "tags": []
          },
          "execution_count": 27
        }
      ]
    },
    {
      "cell_type": "code",
      "metadata": {
        "id": "7q-9DhawZ9L0"
      },
      "source": [
        "REDUCED_IMAGE_PATH = \"/content/dataset/cityscape/reducedvalimages/\""
      ],
      "execution_count": null,
      "outputs": []
    },
    {
      "cell_type": "code",
      "metadata": {
        "colab": {
          "base_uri": "https://localhost:8080/",
          "height": 137,
          "referenced_widgets": [
            "470102fc2478474cb9d8e742593bcb95",
            "369d5248b9a04dbebdf56ae49d9ed0d5",
            "e0d937bba08a4e2a825344db48692d3d",
            "d8f5fe52b6824e18850ce6c4ac40688f",
            "9b044f479ba44256afde3b4d9e2b0bea",
            "0b8d43210fed4f8ebd765177152e86cf",
            "915d41d9c58f4a668b17df2131e1931b",
            "da015fa1ad1645afba1bf98e22d1db9f"
          ]
        },
        "id": "TsasQTONesy-",
        "outputId": "dcd34693-0e2a-4c17-fe0a-1506400b1aa5"
      },
      "source": [
        "\n",
        "from PIL import Image\n",
        "from tqdm import tqdm_notebook as tqdm\n",
        "\n",
        "for image_path in tqdm(file_url):\n",
        "  image = Image.open(image_path)\n",
        "  reduced_image = image.resize((256, 128), resample=Image.NEAREST)\n",
        "  reduced_image.save(REDUCED_IMAGE_PATH + image_path.split('/')[-1])"
      ],
      "execution_count": null,
      "outputs": [
        {
          "output_type": "stream",
          "text": [
            "/usr/local/lib/python3.7/dist-packages/ipykernel_launcher.py:6: TqdmDeprecationWarning: This function will be removed in tqdm==5.0.0\n",
            "Please use `tqdm.notebook.tqdm` instead of `tqdm.tqdm_notebook`\n",
            "  \n"
          ],
          "name": "stderr"
        },
        {
          "output_type": "display_data",
          "data": {
            "application/vnd.jupyter.widget-view+json": {
              "model_id": "470102fc2478474cb9d8e742593bcb95",
              "version_major": 2,
              "version_minor": 0
            },
            "text/plain": [
              "HBox(children=(FloatProgress(value=0.0, max=500.0), HTML(value='')))"
            ]
          },
          "metadata": {
            "tags": []
          }
        },
        {
          "output_type": "stream",
          "text": [
            "\n"
          ],
          "name": "stdout"
        }
      ]
    },
    {
      "cell_type": "code",
      "metadata": {
        "colab": {
          "base_uri": "https://localhost:8080/"
        },
        "id": "kF9WKGlZhB5y",
        "outputId": "305cd49e-9e41-4c49-c9cd-689a4eb68408"
      },
      "source": [
        "REDUCED_IMAGE_PATH = \"/content/dataset/cityscape/reducedvalimages/\"\n",
        "\n",
        "file_url = []\n",
        "for (dir_path, _, file_names) in os.walk(REDUCED_IMAGE_PATH):\n",
        "  file_url.extend([dir_path+ \"/\" + file_mask + \"\\n\" for file_mask in file_names if file_mask.endswith(\".png\")])\n",
        "len(file_url)"
      ],
      "execution_count": null,
      "outputs": [
        {
          "output_type": "execute_result",
          "data": {
            "text/plain": [
              "500"
            ]
          },
          "metadata": {
            "tags": []
          },
          "execution_count": 34
        }
      ]
    },
    {
      "cell_type": "code",
      "metadata": {
        "id": "4g1DxWpqvpEq"
      },
      "source": [
        "f = open(REDUCED_IMAGE_PATH + \"test_images.txt\",\"w\")\n",
        "f.writelines(file_url)\n",
        "f.close()"
      ],
      "execution_count": null,
      "outputs": []
    },
    {
      "cell_type": "code",
      "metadata": {
        "id": "6f5jGGxEhNYB"
      },
      "source": [
        "! python3 drn/segment.py test -d drn/datasets/cityscapes -l $REDUCED_IMAGE_PATH \\\n",
        "-c 19 --arch drn_d_22 --pretrained /content/gdrive/MyDrive/cityscapes/drn_d_22_cityscapes.pth --phase test --batch-size 1"
      ],
      "execution_count": null,
      "outputs": []
    },
    {
      "cell_type": "code",
      "metadata": {
        "id": "T8V2na9yLPOZ"
      },
      "source": [
        "REDUCED_IMAGE_PATH = \"/content/dataset/cityscape/reducedvalimages/\"\n",
        "GENERATED_VALIDATION_PATH = \"/content/dataset/generated_images/cityscape/val/\""
      ],
      "execution_count": null,
      "outputs": []
    },
    {
      "cell_type": "code",
      "metadata": {
        "colab": {
          "base_uri": "https://localhost:8080/",
          "height": 249
        },
        "id": "JIh3e8KikBSy",
        "outputId": "9d85ced8-1e4b-4070-fdc5-3b7bf058bc9f"
      },
      "source": [
        "gt_masks = [REDUCED_IMAGE_PATH + name for name in os.listdir(REDUCED_IMAGE_PATH) if name.endswith(\"_mask.png\")]\n",
        "\n",
        "generated_masks = [GENERATED_VALIDATION_PATH + name for name in os.listdir(GENERATED_VALIDATION_PATH) if name.endswith(\".png\")]\n",
        "\n",
        "file_mask = list(zip(sorted(gt_masks), sorted(generated_masks)))\n",
        "file_mask[0]"
      ],
      "execution_count": null,
      "outputs": [
        {
          "output_type": "error",
          "ename": "NameError",
          "evalue": "ignored",
          "traceback": [
            "\u001b[0;31m---------------------------------------------------------------------------\u001b[0m",
            "\u001b[0;31mNameError\u001b[0m                                 Traceback (most recent call last)",
            "\u001b[0;32m<ipython-input-2-0c3c048d7f38>\u001b[0m in \u001b[0;36m<module>\u001b[0;34m()\u001b[0m\n\u001b[0;32m----> 1\u001b[0;31m \u001b[0mgt_masks\u001b[0m \u001b[0;34m=\u001b[0m \u001b[0;34m[\u001b[0m\u001b[0mREDUCED_IMAGE_PATH\u001b[0m \u001b[0;34m+\u001b[0m \u001b[0mname\u001b[0m \u001b[0;32mfor\u001b[0m \u001b[0mname\u001b[0m \u001b[0;32min\u001b[0m \u001b[0mos\u001b[0m\u001b[0;34m.\u001b[0m\u001b[0mlistdir\u001b[0m\u001b[0;34m(\u001b[0m\u001b[0mREDUCED_IMAGE_PATH\u001b[0m\u001b[0;34m)\u001b[0m \u001b[0;32mif\u001b[0m \u001b[0mname\u001b[0m\u001b[0;34m.\u001b[0m\u001b[0mendswith\u001b[0m\u001b[0;34m(\u001b[0m\u001b[0;34m\"_mask.png\"\u001b[0m\u001b[0;34m)\u001b[0m\u001b[0;34m]\u001b[0m\u001b[0;34m\u001b[0m\u001b[0;34m\u001b[0m\u001b[0m\n\u001b[0m\u001b[1;32m      2\u001b[0m \u001b[0;34m\u001b[0m\u001b[0m\n\u001b[1;32m      3\u001b[0m \u001b[0mgenerated_masks\u001b[0m \u001b[0;34m=\u001b[0m \u001b[0;34m[\u001b[0m\u001b[0mGENERATED_VALIDATION_PATH\u001b[0m \u001b[0;34m+\u001b[0m \u001b[0mname\u001b[0m \u001b[0;32mfor\u001b[0m \u001b[0mname\u001b[0m \u001b[0;32min\u001b[0m \u001b[0mos\u001b[0m\u001b[0;34m.\u001b[0m\u001b[0mlistdir\u001b[0m\u001b[0;34m(\u001b[0m\u001b[0mGENERATED_VALIDATION_PATH\u001b[0m\u001b[0;34m)\u001b[0m \u001b[0;32mif\u001b[0m \u001b[0mname\u001b[0m\u001b[0;34m.\u001b[0m\u001b[0mendswith\u001b[0m\u001b[0;34m(\u001b[0m\u001b[0;34m\".png\"\u001b[0m\u001b[0;34m)\u001b[0m\u001b[0;34m]\u001b[0m\u001b[0;34m\u001b[0m\u001b[0;34m\u001b[0m\u001b[0m\n\u001b[1;32m      4\u001b[0m \u001b[0;34m\u001b[0m\u001b[0m\n\u001b[1;32m      5\u001b[0m \u001b[0mfile_mask\u001b[0m \u001b[0;34m=\u001b[0m \u001b[0mlist\u001b[0m\u001b[0;34m(\u001b[0m\u001b[0mzip\u001b[0m\u001b[0;34m(\u001b[0m\u001b[0msorted\u001b[0m\u001b[0;34m(\u001b[0m\u001b[0mgt_masks\u001b[0m\u001b[0;34m)\u001b[0m\u001b[0;34m,\u001b[0m \u001b[0msorted\u001b[0m\u001b[0;34m(\u001b[0m\u001b[0mgenerated_masks\u001b[0m\u001b[0;34m)\u001b[0m\u001b[0;34m)\u001b[0m\u001b[0;34m)\u001b[0m\u001b[0;34m\u001b[0m\u001b[0;34m\u001b[0m\u001b[0m\n",
            "\u001b[0;31mNameError\u001b[0m: name 'os' is not defined"
          ]
        }
      ]
    },
    {
      "cell_type": "code",
      "metadata": {
        "colab": {
          "base_uri": "https://localhost:8080/",
          "height": 249
        },
        "id": "MqmdQB-cKbK4",
        "outputId": "656946c2-fa92-4792-8a1f-87d4582f512d"
      },
      "source": [
        "original_images = [REDUCED_IMAGE_PATH + name for name in os.listdir(REDUCED_IMAGE_PATH) if not name.endswith(\"_mask.png\")]\n",
        "\n",
        "generated_images = [GENERATED_VALIDATION_PATH + name for name in os.listdir(GENERATED_VALIDATION_PATH) if not name.endswith(\".png\")]\n",
        "\n",
        "file_images = list(zip(sorted(original_images), sorted(generated_images)))\n",
        "file_images[0]"
      ],
      "execution_count": null,
      "outputs": [
        {
          "output_type": "error",
          "ename": "NameError",
          "evalue": "ignored",
          "traceback": [
            "\u001b[0;31m---------------------------------------------------------------------------\u001b[0m",
            "\u001b[0;31mNameError\u001b[0m                                 Traceback (most recent call last)",
            "\u001b[0;32m<ipython-input-3-4d0dcaf5f6d3>\u001b[0m in \u001b[0;36m<module>\u001b[0;34m()\u001b[0m\n\u001b[0;32m----> 1\u001b[0;31m \u001b[0moriginal_images\u001b[0m \u001b[0;34m=\u001b[0m \u001b[0;34m[\u001b[0m\u001b[0mREDUCED_IMAGE_PATH\u001b[0m \u001b[0;34m+\u001b[0m \u001b[0mname\u001b[0m \u001b[0;32mfor\u001b[0m \u001b[0mname\u001b[0m \u001b[0;32min\u001b[0m \u001b[0mos\u001b[0m\u001b[0;34m.\u001b[0m\u001b[0mlistdir\u001b[0m\u001b[0;34m(\u001b[0m\u001b[0mREDUCED_IMAGE_PATH\u001b[0m\u001b[0;34m)\u001b[0m \u001b[0;32mif\u001b[0m \u001b[0;32mnot\u001b[0m \u001b[0mname\u001b[0m\u001b[0;34m.\u001b[0m\u001b[0mendswith\u001b[0m\u001b[0;34m(\u001b[0m\u001b[0;34m\"_mask.png\"\u001b[0m\u001b[0;34m)\u001b[0m\u001b[0;34m]\u001b[0m\u001b[0;34m\u001b[0m\u001b[0;34m\u001b[0m\u001b[0m\n\u001b[0m\u001b[1;32m      2\u001b[0m \u001b[0;34m\u001b[0m\u001b[0m\n\u001b[1;32m      3\u001b[0m \u001b[0mgenerated_images\u001b[0m \u001b[0;34m=\u001b[0m \u001b[0;34m[\u001b[0m\u001b[0mGENERATED_VALIDATION_PATH\u001b[0m \u001b[0;34m+\u001b[0m \u001b[0mname\u001b[0m \u001b[0;32mfor\u001b[0m \u001b[0mname\u001b[0m \u001b[0;32min\u001b[0m \u001b[0mos\u001b[0m\u001b[0;34m.\u001b[0m\u001b[0mlistdir\u001b[0m\u001b[0;34m(\u001b[0m\u001b[0mGENERATED_VALIDATION_PATH\u001b[0m\u001b[0;34m)\u001b[0m \u001b[0;32mif\u001b[0m \u001b[0;32mnot\u001b[0m \u001b[0mname\u001b[0m\u001b[0;34m.\u001b[0m\u001b[0mendswith\u001b[0m\u001b[0;34m(\u001b[0m\u001b[0;34m\".png\"\u001b[0m\u001b[0;34m)\u001b[0m\u001b[0;34m]\u001b[0m\u001b[0;34m\u001b[0m\u001b[0;34m\u001b[0m\u001b[0m\n\u001b[1;32m      4\u001b[0m \u001b[0;34m\u001b[0m\u001b[0m\n\u001b[1;32m      5\u001b[0m \u001b[0mfile_images\u001b[0m \u001b[0;34m=\u001b[0m \u001b[0mlist\u001b[0m\u001b[0;34m(\u001b[0m\u001b[0mzip\u001b[0m\u001b[0;34m(\u001b[0m\u001b[0msorted\u001b[0m\u001b[0;34m(\u001b[0m\u001b[0moriginal_images\u001b[0m\u001b[0;34m)\u001b[0m\u001b[0;34m,\u001b[0m \u001b[0msorted\u001b[0m\u001b[0;34m(\u001b[0m\u001b[0mgenerated_images\u001b[0m\u001b[0;34m)\u001b[0m\u001b[0;34m)\u001b[0m\u001b[0;34m)\u001b[0m\u001b[0;34m\u001b[0m\u001b[0;34m\u001b[0m\u001b[0m\n",
            "\u001b[0;31mNameError\u001b[0m: name 'os' is not defined"
          ]
        }
      ]
    },
    {
      "cell_type": "code",
      "metadata": {
        "colab": {
          "base_uri": "https://localhost:8080/",
          "height": 222,
          "referenced_widgets": [
            "edee65174621474bb3e1009c837dc26e",
            "ab4917c801d3458c9aabbecade44e078",
            "4df2216bb8e349f6be5d4c7c22500349",
            "04745120a7624944a4128accbfb2e56d",
            "79a534dcc3e84d97addaf9d951600b98",
            "f0f19b79e23d46ea93576d18880fd6e5",
            "9ccb89cc76ce4500928e5e74054914ac",
            "c2cb82f7fb2e4ffc82f0121488adafbb"
          ]
        },
        "id": "VumN9Pk87O_q",
        "outputId": "3bbb26c9-3209-4346-b0f9-ca38dd84be2e"
      },
      "source": [
        "from PIL import Image\n",
        "import numpy as np\n",
        "import miou as m\n",
        "import importlib\n",
        "import pixelacc as p\n",
        "import FID as f\n",
        "from tqdm import tqdm_notebook as tqdm\n",
        "\n",
        "importlib.reload(m)\n",
        "importlib.reload(p)\n",
        "importlib.reload(f)\n",
        "\n",
        "miou = []\n",
        "acc = []\n",
        "fid = []\n",
        "gen_list = []\n",
        "gt_list = []\n",
        "\n",
        "for gt_path, gen_path in tqdm(file_mask):\n",
        "  gen_image = Image.open(gen_path)\n",
        "  gen_array = np.asarray(gen_image)\n",
        "  gt_image = Image.open(gt_path)\n",
        "  gt_image = gt_image.convert(\"RGB\").resize(gen_image.size, resample=Image.NEAREST)\n",
        "  gt_array = np.asarray(gt_image)\n",
        "  miou.append(m.calculate_miou(gen_array, gt_array))\n",
        "  acc.append(p.pixel_accuracy(gen_array, gt_array))\n",
        "  gen_list.append(gen_array)\n",
        "  gt_list.append(gt_array)\n",
        "\n",
        "gen_list = np.array(gen_list)\n",
        "gt_list = np.array(gt_list)\n",
        "\n",
        "m.calculate_miou(gen_list,gt_list)\n",
        "miou = np.mean(miou)\n",
        "acc = np.mean(acc)\n",
        "fid = f.run_fid(gen_list,gt_list)\n",
        "\n",
        "print(\"MIOU: \",miou)\n",
        "print(\"Accuracy\", acc)\n",
        "print(\"FID is\", fid)"
      ],
      "execution_count": null,
      "outputs": [
        {
          "output_type": "stream",
          "text": [
            "Accuracy 0.12573333333333334\n"
          ],
          "name": "stdout"
        },
        {
          "output_type": "stream",
          "text": [
            "/usr/local/lib/python3.7/dist-packages/ipykernel_launcher.py:19: TqdmDeprecationWarning: This function will be removed in tqdm==5.0.0\n",
            "Please use `tqdm.notebook.tqdm` instead of `tqdm.tqdm_notebook`\n"
          ],
          "name": "stderr"
        },
        {
          "output_type": "display_data",
          "data": {
            "application/vnd.jupyter.widget-view+json": {
              "model_id": "edee65174621474bb3e1009c837dc26e",
              "version_major": 2,
              "version_minor": 0
            },
            "text/plain": [
              "HBox(children=(FloatProgress(value=0.0, max=500.0), HTML(value='')))"
            ]
          },
          "metadata": {
            "tags": []
          }
        },
        {
          "output_type": "stream",
          "text": [
            "\n",
            "Downloading data from https://storage.googleapis.com/tensorflow/keras-applications/inception_v3/inception_v3_weights_tf_dim_ordering_tf_kernels_notop.h5\n",
            "87916544/87910968 [==============================] - 1s 0us/step\n",
            "MIOU:  0.29728472\n",
            "Accuracy 0.7544669189453125\n",
            "FID is 336.93729124216304\n"
          ],
          "name": "stdout"
        }
      ]
    },
    {
      "cell_type": "markdown",
      "metadata": {
        "id": "CKw1Y1F9ZnWG"
      },
      "source": [
        "## Experiment 3: FID between generated images and original images Cityscapes "
      ]
    },
    {
      "cell_type": "code",
      "metadata": {
        "colab": {
          "base_uri": "https://localhost:8080/"
        },
        "id": "ou7z-2vGmHGi",
        "outputId": "5031eeab-db30-4164-ecae-b869310d7aa1"
      },
      "source": [
        "#GENERATED_VALIDATION_PATH\n",
        "#REDUCED_IMAGE_PATH\n",
        "\n",
        "original_images = [REDUCED_IMAGE_PATH + name for name in os.listdir(REDUCED_IMAGE_PATH) if not name.endswith(\"_mask.png\")]\n",
        "\n",
        "generated_images = [GENERATED_VALIDATION_PATH + name for name in os.listdir(GENERATED_VALIDATION_PATH) if name.endswith(\".jpeg\")]\n",
        "\n",
        "file_images = list(zip(sorted(original_images), sorted(generated_images)))"
      ],
      "execution_count": null,
      "outputs": [
        {
          "output_type": "execute_result",
          "data": {
            "text/plain": [
              "('/content/dataset/cityscape/reducedvalimages/frankfurt_000000_000294_leftImg8bit.png',\n",
              " '/content/dataset/generated_images/cityscape/val/frankfurt_000000_000294.jpeg')"
            ]
          },
          "metadata": {
            "tags": []
          },
          "execution_count": 10
        }
      ]
    },
    {
      "cell_type": "code",
      "metadata": {
        "colab": {
          "base_uri": "https://localhost:8080/",
          "height": 188,
          "referenced_widgets": [
            "3b82331152374e0c87d7f379c883c973",
            "db71368b066547d88a051f9a50b1b7be",
            "27c60ef9fbe34b6185d2fca136729c99",
            "02427fef65a649c195f71a39c486566f",
            "864ea194c32b4c9f9a2641e1293e422b",
            "d7d28288751545cbbb61f8e1f6c07540",
            "8c0543ecace04ad29b9308d4666071ab",
            "38d487e8e7854701bc8126e3b8c57d6b"
          ]
        },
        "id": "rFCEBFHRbizV",
        "outputId": "035060db-300e-4778-dfa8-9a75fb81478e"
      },
      "source": [
        "from PIL import Image\n",
        "import numpy as np\n",
        "import importlib\n",
        "import FID as f\n",
        "from tqdm import tqdm_notebook as tqdm\n",
        "\n",
        "importlib.reload(f)\n",
        "\n",
        "gen_list = []\n",
        "gt_list = []\n",
        "\n",
        "for gt_path, gen_path in tqdm(file_images):\n",
        "  gen_image = Image.open(gen_path)\n",
        "  gen_array = np.asarray(gen_image)\n",
        "  gt_image = Image.open(gt_path)\n",
        "  gt_image = gt_image.convert(\"RGB\")\n",
        "  gt_array = np.asarray(gt_image)\n",
        "  gen_list.append(gen_array)\n",
        "  gt_list.append(gt_array)\n",
        "\n",
        "gen_list = np.array(gen_list)\n",
        "gt_list = np.array(gt_list)\n",
        "fid = f.run_fid(gen_list,gt_list)\n",
        "print(\"FID is\", fid)"
      ],
      "execution_count": null,
      "outputs": [
        {
          "output_type": "stream",
          "text": [
            "/usr/local/lib/python3.7/dist-packages/ipykernel_launcher.py:12: TqdmDeprecationWarning: This function will be removed in tqdm==5.0.0\n",
            "Please use `tqdm.notebook.tqdm` instead of `tqdm.tqdm_notebook`\n",
            "  if sys.path[0] == '':\n"
          ],
          "name": "stderr"
        },
        {
          "output_type": "display_data",
          "data": {
            "application/vnd.jupyter.widget-view+json": {
              "model_id": "3b82331152374e0c87d7f379c883c973",
              "version_major": 2,
              "version_minor": 0
            },
            "text/plain": [
              "HBox(children=(FloatProgress(value=0.0, max=500.0), HTML(value='')))"
            ]
          },
          "metadata": {
            "tags": []
          }
        },
        {
          "output_type": "stream",
          "text": [
            "\n",
            "Downloading data from https://storage.googleapis.com/tensorflow/keras-applications/inception_v3/inception_v3_weights_tf_dim_ordering_tf_kernels_notop.h5\n",
            "87916544/87910968 [==============================] - 1s 0us/step\n",
            "FID is 846.6181234309547\n"
          ],
          "name": "stdout"
        }
      ]
    },
    {
      "cell_type": "markdown",
      "metadata": {
        "id": "tuCPsiJIdQJo"
      },
      "source": [
        "## Experiment 4: FID calculation for Celebs"
      ]
    },
    {
      "cell_type": "code",
      "metadata": {
        "id": "xoqaSGEQcfbq"
      },
      "source": [
        "# first we reduce the original images\n",
        "PATH_generated = \"/content/dataset/generated_images/faces/val/\"\n",
        "PATH_original = \"/content/dataset/CelebAMask/CelebA-HG-img-Files/\""
      ],
      "execution_count": 6,
      "outputs": []
    },
    {
      "cell_type": "code",
      "metadata": {
        "id": "j9Ys7vWBeVht"
      },
      "source": [
        "generated_images = [PATH_generated + image for image in os.listdir(PATH_generated)]"
      ],
      "execution_count": 7,
      "outputs": []
    },
    {
      "cell_type": "code",
      "metadata": {
        "id": "vu8Zbd5ONqHd"
      },
      "source": [
        "original_images = [PATH_original + image.split(\".\")[0] + \".jpg\" for image in os.listdir(PATH_generated)]"
      ],
      "execution_count": 11,
      "outputs": []
    },
    {
      "cell_type": "code",
      "metadata": {
        "id": "ry71vwy7OqKq"
      },
      "source": [
        "file_images = list(zip(sorted(original_images), sorted(generated_images)))"
      ],
      "execution_count": 14,
      "outputs": []
    },
    {
      "cell_type": "code",
      "metadata": {
        "colab": {
          "base_uri": "https://localhost:8080/",
          "height": 154,
          "referenced_widgets": [
            "c17ebaaf3fb74b59a6078048817aa7f6",
            "977a3a3ed2f8451cbbdf93582a874fc2",
            "7786328c9fa446369a341b45ff384c60",
            "7417ef2f4f4c4e1cb058b035d3a93462",
            "cc6c49b464a342a8897de84c7a77c9fc",
            "03b1b7d82abc4a68b142ab0801bc12a1",
            "7cdb4b5c148045c384604301bcb2936d",
            "4f61d0e0e8e441f2ba255dbb50ce495b"
          ]
        },
        "id": "W-7wxFzIO0u9",
        "outputId": "88c78464-3bcd-4a73-c037-850a92e1b606"
      },
      "source": [
        "from PIL import Image\n",
        "import numpy as np\n",
        "import importlib\n",
        "import FID as f\n",
        "from tqdm import tqdm_notebook as tqdm\n",
        "\n",
        "importlib.reload(f)\n",
        "\n",
        "gen_list = []\n",
        "gt_list = []\n",
        "\n",
        "for gt_path, gen_path in tqdm(file_images):\n",
        "  gen_image = Image.open(gen_path)\n",
        "  gen_array = np.asarray(gen_image)\n",
        "  gt_image = Image.open(gt_path)\n",
        "  gt_image = gt_image.convert(\"RGB\").resize(gen_image.size)\n",
        "  gt_array = np.asarray(gt_image)\n",
        "  gen_list.append(gen_array)\n",
        "  gt_list.append(gt_array)\n",
        "\n",
        "gen_list = np.array(gen_list)\n",
        "gt_list = np.array(gt_list)\n",
        "fid = f.run_fid(gen_list,gt_list)\n",
        "print(\"FID is\", fid)"
      ],
      "execution_count": 23,
      "outputs": [
        {
          "output_type": "stream",
          "text": [
            "/usr/local/lib/python3.7/dist-packages/ipykernel_launcher.py:12: TqdmDeprecationWarning: This function will be removed in tqdm==5.0.0\n",
            "Please use `tqdm.notebook.tqdm` instead of `tqdm.tqdm_notebook`\n",
            "  if sys.path[0] == '':\n"
          ],
          "name": "stderr"
        },
        {
          "output_type": "display_data",
          "data": {
            "application/vnd.jupyter.widget-view+json": {
              "model_id": "c17ebaaf3fb74b59a6078048817aa7f6",
              "version_minor": 0,
              "version_major": 2
            },
            "text/plain": [
              "HBox(children=(FloatProgress(value=0.0, max=500.0), HTML(value='')))"
            ]
          },
          "metadata": {
            "tags": []
          }
        },
        {
          "output_type": "stream",
          "text": [
            "\n",
            "FID is 117.68668494747098\n"
          ],
          "name": "stdout"
        }
      ]
    },
    {
      "cell_type": "code",
      "metadata": {
        "colab": {
          "base_uri": "https://localhost:8080/"
        },
        "id": "1xt1a_hdO-A3",
        "outputId": "acb8f137-5c21-4eab-e0ea-b78c08490e68"
      },
      "source": [
        "Image.open(file_images[0][0]).size"
      ],
      "execution_count": 26,
      "outputs": [
        {
          "output_type": "execute_result",
          "data": {
            "text/plain": [
              "(1024, 1024)"
            ]
          },
          "metadata": {
            "tags": []
          },
          "execution_count": 26
        }
      ]
    },
    {
      "cell_type": "code",
      "metadata": {
        "colab": {
          "base_uri": "https://localhost:8080/"
        },
        "id": "mpFRbpe5Qfuy",
        "outputId": "208c418e-d6c8-47dc-abb0-29367c7f4bea"
      },
      "source": [
        "Image.open(file_images[0][1]).size"
      ],
      "execution_count": 27,
      "outputs": [
        {
          "output_type": "execute_result",
          "data": {
            "text/plain": [
              "(256, 256)"
            ]
          },
          "metadata": {
            "tags": []
          },
          "execution_count": 27
        }
      ]
    },
    {
      "cell_type": "code",
      "metadata": {
        "colab": {
          "base_uri": "https://localhost:8080/"
        },
        "id": "Bd3zGXPAQjBC",
        "outputId": "f6173465-0cbb-40bd-c521-6d2620de4ccf"
      },
      "source": [
        "file_images[0]"
      ],
      "execution_count": 22,
      "outputs": [
        {
          "output_type": "execute_result",
          "data": {
            "text/plain": [
              "('/content/dataset/CelebAMask/CelebA-HG-img-Files/10000.jpg',\n",
              " '/content/dataset/generated_images/faces/val/10000.jpeg')"
            ]
          },
          "metadata": {
            "tags": []
          },
          "execution_count": 22
        }
      ]
    },
    {
      "cell_type": "code",
      "metadata": {
        "id": "WXvrbkt_Qmzh"
      },
      "source": [
        ""
      ],
      "execution_count": null,
      "outputs": []
    }
  ]
}