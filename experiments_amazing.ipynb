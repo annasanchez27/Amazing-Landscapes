{
  "nbformat": 4,
  "nbformat_minor": 0,
  "metadata": {
    "colab": {
      "name": "experiments_amazing.ipynb",
      "provenance": [],
      "collapsed_sections": [],
      "authorship_tag": "ABX9TyOtWI/W3Oz4VPGFPcDyxKiI",
      "include_colab_link": true
    },
    "kernelspec": {
      "name": "python3",
      "display_name": "Python 3"
    },
    "language_info": {
      "name": "python"
    },
    "accelerator": "GPU"
  },
  "cells": [
    {
      "cell_type": "markdown",
      "metadata": {
        "id": "view-in-github",
        "colab_type": "text"
      },
      "source": [
        "<a href=\"https://colab.research.google.com/github/franciscojferrari/Amazing-Landscapes/blob/experiments/experiments_amazing.ipynb\" target=\"_parent\"><img src=\"https://colab.research.google.com/assets/colab-badge.svg\" alt=\"Open In Colab\"/></a>"
      ]
    },
    {
      "cell_type": "code",
      "metadata": {
        "id": "8Lgxd_fJ4enX"
      },
      "source": [
        "import tensorflow_datasets as tfds\n",
        "import matplotlib.pyplot as plt\n",
        "import tensorflow as tf\n",
        "import importlib\n",
        "import yaml\n",
        "import os\n",
        "from google.colab import auth\n",
        "from pathlib import Path\n",
        "from tqdm import tqdm \n",
        "from PIL import Image"
      ],
      "execution_count": 1,
      "outputs": []
    },
    {
      "cell_type": "code",
      "metadata": {
        "id": "p2QDb68r4p4S"
      },
      "source": [
        "auth.authenticate_user()\n"
      ],
      "execution_count": 2,
      "outputs": []
    },
    {
      "cell_type": "code",
      "metadata": {
        "colab": {
          "base_uri": "https://localhost:8080/"
        },
        "id": "VNATumfM4vB3",
        "outputId": "3dedcfa2-309b-42bd-b240-5bfa40d2deff"
      },
      "source": [
        "!echo \"deb http://packages.cloud.google.com/apt gcsfuse-bionic main\" > /etc/apt/sources.list.d/gcsfuse.list\n",
        "!curl https://packages.cloud.google.com/apt/doc/apt-key.gpg | apt-key add -\n",
        "!apt -qq update\n",
        "!apt -qq install gcsfuse"
      ],
      "execution_count": 3,
      "outputs": [
        {
          "output_type": "stream",
          "text": [
            "  % Total    % Received % Xferd  Average Speed   Time    Time     Time  Current\n",
            "                                 Dload  Upload   Total   Spent    Left  Speed\n",
            "\r  0     0    0     0    0     0      0      0 --:--:-- --:--:-- --:--:--     0\r100  2537  100  2537    0     0   112k      0 --:--:-- --:--:-- --:--:--  112k\n",
            "OK\n",
            "62 packages can be upgraded. Run 'apt list --upgradable' to see them.\n",
            "The following package was automatically installed and is no longer required:\n",
            "  libnvidia-common-460\n",
            "Use 'apt autoremove' to remove it.\n",
            "The following NEW packages will be installed:\n",
            "  gcsfuse\n",
            "0 upgraded, 1 newly installed, 0 to remove and 62 not upgraded.\n",
            "Need to get 10.8 MB of archives.\n",
            "After this operation, 23.1 MB of additional disk space will be used.\n",
            "Selecting previously unselected package gcsfuse.\n",
            "(Reading database ... 160706 files and directories currently installed.)\n",
            "Preparing to unpack .../gcsfuse_0.35.0_amd64.deb ...\n",
            "Unpacking gcsfuse (0.35.0) ...\n",
            "Setting up gcsfuse (0.35.0) ...\n"
          ],
          "name": "stdout"
        }
      ]
    },
    {
      "cell_type": "code",
      "metadata": {
        "colab": {
          "base_uri": "https://localhost:8080/"
        },
        "id": "w5sNFrsK42Wh",
        "outputId": "78fc7c2d-4eca-4c33-dcfe-49a3b77d13c2"
      },
      "source": [
        "!mkdir dataset\n",
        "!gcsfuse --implicit-dirs spade_dataset dataset"
      ],
      "execution_count": 4,
      "outputs": [
        {
          "output_type": "stream",
          "text": [
            "2021/05/13 09:06:13.723341 Using mount point: /content/dataset\n",
            "2021/05/13 09:06:13.731595 Opening GCS connection...\n",
            "2021/05/13 09:06:14.233877 Mounting file system \"spade_dataset\"...\n",
            "2021/05/13 09:06:14.265901 File system has been successfully mounted.\n"
          ],
          "name": "stdout"
        }
      ]
    },
    {
      "cell_type": "code",
      "metadata": {
        "id": "3YTBv3eM6tr5"
      },
      "source": [
        "PATH = \"/content/dataset/generated_images/cityscape/\""
      ],
      "execution_count": 5,
      "outputs": []
    },
    {
      "cell_type": "markdown",
      "metadata": {
        "id": "P52R2e_M6hQV"
      },
      "source": [
        "Create txt file with the path of the generated images"
      ]
    },
    {
      "cell_type": "code",
      "metadata": {
        "id": "TODYTXB04_iK"
      },
      "source": [
        "file_url = list(map(lambda x: PATH + x + '\\n', os.listdir(PATH)))"
      ],
      "execution_count": 6,
      "outputs": []
    },
    {
      "cell_type": "code",
      "metadata": {
        "id": "6l6V4RND6frt"
      },
      "source": [
        "f = open(PATH + \"test_images.txt\",\"w\")\n",
        "f.writelines(file_url)\n",
        "f.close()"
      ],
      "execution_count": 7,
      "outputs": []
    },
    {
      "cell_type": "markdown",
      "metadata": {
        "id": "Gy_HymaJ89VD"
      },
      "source": [
        "Using pre-trained model DRN to create segmentation mask for the generated images"
      ]
    },
    {
      "cell_type": "code",
      "metadata": {
        "colab": {
          "base_uri": "https://localhost:8080/"
        },
        "id": "TKdudS7N81dz",
        "outputId": "25153e47-ee40-488a-904c-9057427ca133"
      },
      "source": [
        "! git clone https://github.com/fyu/drn.git"
      ],
      "execution_count": 8,
      "outputs": [
        {
          "output_type": "stream",
          "text": [
            "Cloning into 'drn'...\n",
            "remote: Enumerating objects: 203, done.\u001b[K\n",
            "remote: Total 203 (delta 0), reused 0 (delta 0), pack-reused 203\u001b[K\n",
            "Receiving objects: 100% (203/203), 521.11 KiB | 2.53 MiB/s, done.\n",
            "Resolving deltas: 100% (103/103), done.\n"
          ],
          "name": "stdout"
        }
      ]
    },
    {
      "cell_type": "code",
      "metadata": {
        "colab": {
          "base_uri": "https://localhost:8080/"
        },
        "id": "NuBkeSoA7i9j",
        "outputId": "6bfc82d4-ddd0-4862-abc7-9cd60af78d0f"
      },
      "source": [
        "import sys\n",
        "! {sys.executable} -m pip install -r drn/requirements.txt"
      ],
      "execution_count": 9,
      "outputs": [
        {
          "output_type": "stream",
          "text": [
            "Requirement already satisfied: numpy in /usr/local/lib/python3.7/dist-packages (from -r drn/requirements.txt (line 1)) (1.19.5)\n",
            "Requirement already satisfied: pillow in /usr/local/lib/python3.7/dist-packages (from -r drn/requirements.txt (line 2)) (7.1.2)\n"
          ],
          "name": "stdout"
        }
      ]
    },
    {
      "cell_type": "code",
      "metadata": {
        "colab": {
          "base_uri": "https://localhost:8080/"
        },
        "id": "Aif1JQPI9JZJ",
        "outputId": "69bea112-6a7d-4747-ba33-1c04dd5e6a08"
      },
      "source": [
        "from google.colab import drive\n",
        "drive.mount('/content/gdrive')"
      ],
      "execution_count": 10,
      "outputs": [
        {
          "output_type": "stream",
          "text": [
            "Mounted at /content/gdrive\n"
          ],
          "name": "stdout"
        }
      ]
    },
    {
      "cell_type": "code",
      "metadata": {
        "id": "e2owgeI89YY5"
      },
      "source": [
        "! python3 drn/segment.py test -d drn/datasets/cityscapes -l $PATH \\\n",
        "-c 19 --arch drn_d_22 --pretrained /content/gdrive/MyDrive/cityscapes/drn_d_22_cityscapes.pth --phase test --batch-size 1"
      ],
      "execution_count": null,
      "outputs": []
    },
    {
      "cell_type": "code",
      "metadata": {
        "id": "FEWT5mVm90uO"
      },
      "source": [
        "PATH_gtmask = \"/content/dataset/cityscape/gtfine/gtFine/val/\""
      ],
      "execution_count": 13,
      "outputs": []
    },
    {
      "cell_type": "code",
      "metadata": {
        "colab": {
          "base_uri": "https://localhost:8080/"
        },
        "id": "H2VmHZ4gFNwB",
        "outputId": "f8faf9bc-ff55-4010-9ccb-5bdf9675d321"
      },
      "source": [
        "gt_masks = []\n",
        "for (dir_path, _, file_names) in os.walk(PATH_gtmask):\n",
        "  gt_masks.extend([dir_path+ \"/\" + file_mask for file_mask in file_names if file_mask.endswith(\"_gtFine_color.png\")])\n",
        "len(gt_masks)"
      ],
      "execution_count": 25,
      "outputs": [
        {
          "output_type": "execute_result",
          "data": {
            "text/plain": [
              "500"
            ]
          },
          "metadata": {
            "tags": []
          },
          "execution_count": 25
        }
      ]
    },
    {
      "cell_type": "code",
      "metadata": {
        "colab": {
          "base_uri": "https://localhost:8080/"
        },
        "id": "H3V9YctYIPRa",
        "outputId": "82ae3b66-e960-4911-aafa-7687c5659905"
      },
      "source": [
        "generated_masks = [PATH + mask for mask in os.listdir(PATH) if mask.endswith(\".png\")]\n",
        "len(generated_masks)"
      ],
      "execution_count": 28,
      "outputs": [
        {
          "output_type": "execute_result",
          "data": {
            "text/plain": [
              "500"
            ]
          },
          "metadata": {
            "tags": []
          },
          "execution_count": 28
        }
      ]
    },
    {
      "cell_type": "code",
      "metadata": {
        "colab": {
          "base_uri": "https://localhost:8080/"
        },
        "id": "hyKYpKYPJCU2",
        "outputId": "d294550f-5a02-4d39-e9bb-dc952c9cfd9b"
      },
      "source": [
        "file_mask = list(zip(sorted(gt_masks), sorted(generated_masks)))\n",
        "file_mask[0]"
      ],
      "execution_count": 29,
      "outputs": [
        {
          "output_type": "execute_result",
          "data": {
            "text/plain": [
              "('/content/dataset/cityscape/gtfine/gtFine/val/frankfurt/frankfurt_000000_000294_gtFine_color.png',\n",
              " '/content/dataset/generated_images/cityscape/frankfurt_000000_000294..png')"
            ]
          },
          "metadata": {
            "tags": []
          },
          "execution_count": 29
        }
      ]
    },
    {
      "cell_type": "code",
      "metadata": {
        "id": "T_DH0ucoJsgT"
      },
      "source": [
        ""
      ],
      "execution_count": null,
      "outputs": []
    }
  ]
}