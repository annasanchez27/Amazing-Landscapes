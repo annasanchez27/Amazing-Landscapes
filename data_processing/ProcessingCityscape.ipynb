{
  "nbformat": 4,
  "nbformat_minor": 0,
  "metadata": {
    "colab": {
      "name": "ProcessingCityscape.ipynb",
      "provenance": [],
      "collapsed_sections": []
    },
    "kernelspec": {
      "name": "python3",
      "display_name": "Python 3"
    },
    "language_info": {
      "name": "python"
    }
  },
  "cells": [
    {
      "cell_type": "markdown",
      "metadata": {
        "id": "EVO238LjXdDn"
      },
      "source": [
        "## File used to process the VCTK files\n",
        "\n",
        "Need to make sure that the *following* files are in in the directory:\n",
        "\n",
        "- DataProcessing.py\n",
        "- config.yml\n",
        "- process.py (optional)\n",
        "- utils.py\n",
        "\n",
        "NOTE: from DataProcessing.py change `from data_processing.utils import *` to `from utils import *`.\n",
        "\n",
        "config.yml contents:\n",
        "\n",
        "\n",
        "```\n",
        "img_height: 300\n",
        "img_width: 300\n",
        "bucket_name: \"DataSet\"\n",
        "```\n",
        "\n"
      ]
    },
    {
      "cell_type": "code",
      "metadata": {
        "colab": {
          "base_uri": "https://localhost:8080/"
        },
        "id": "NoEZw2lBWd4J",
        "outputId": "ede24fbd-2eee-4006-f525-6ccfc138afdd"
      },
      "source": [
        "! pip install -q tensorflow-io"
      ],
      "execution_count": 1,
      "outputs": [
        {
          "output_type": "stream",
          "text": [
            "\u001b[K     |████████████████████████████████| 25.4MB 1.7MB/s \n",
            "\u001b[?25h"
          ],
          "name": "stdout"
        }
      ]
    },
    {
      "cell_type": "code",
      "metadata": {
        "id": "begNBb78WnwD"
      },
      "source": [
        "import tensorflow_datasets as tfds\n",
        "import matplotlib.pyplot as plt\n",
        "import tensorflow_io as tfio\n",
        "import tensorflow as tf\n",
        "import importlib\n",
        "import yaml\n",
        "\n",
        "from google.colab import auth\n",
        "from pathlib import Path\n",
        "from tqdm import tqdm \n",
        "from PIL import Image\n"
      ],
      "execution_count": 20,
      "outputs": []
    },
    {
      "cell_type": "code",
      "metadata": {
        "id": "4Iq6_POlWo33"
      },
      "source": [
        "auth.authenticate_user()"
      ],
      "execution_count": 3,
      "outputs": []
    },
    {
      "cell_type": "code",
      "metadata": {
        "colab": {
          "base_uri": "https://localhost:8080/"
        },
        "id": "ArZ5g-8kWqHi",
        "outputId": "de77d410-fb11-47fd-c733-320ec90e412e"
      },
      "source": [
        "!echo \"deb http://packages.cloud.google.com/apt gcsfuse-bionic main\" > /etc/apt/sources.list.d/gcsfuse.list\n",
        "!curl https://packages.cloud.google.com/apt/doc/apt-key.gpg | apt-key add -\n",
        "!apt -qq update\n",
        "!apt -qq install gcsfuse"
      ],
      "execution_count": 4,
      "outputs": [
        {
          "output_type": "stream",
          "text": [
            "  % Total    % Received % Xferd  Average Speed   Time    Time     Time  Current\n",
            "                                 Dload  Upload   Total   Spent    Left  Speed\n",
            "\r  0     0    0     0    0     0      0      0 --:--:-- --:--:-- --:--:--     0\r100  2537  100  2537    0     0  72485      0 --:--:-- --:--:-- --:--:-- 72485\n",
            "OK\n",
            "45 packages can be upgraded. Run 'apt list --upgradable' to see them.\n",
            "The following package was automatically installed and is no longer required:\n",
            "  libnvidia-common-460\n",
            "Use 'apt autoremove' to remove it.\n",
            "The following NEW packages will be installed:\n",
            "  gcsfuse\n",
            "0 upgraded, 1 newly installed, 0 to remove and 45 not upgraded.\n",
            "Need to get 10.8 MB of archives.\n",
            "After this operation, 23.1 MB of additional disk space will be used.\n",
            "Selecting previously unselected package gcsfuse.\n",
            "(Reading database ... 160690 files and directories currently installed.)\n",
            "Preparing to unpack .../gcsfuse_0.35.0_amd64.deb ...\n",
            "Unpacking gcsfuse (0.35.0) ...\n",
            "Setting up gcsfuse (0.35.0) ...\n"
          ],
          "name": "stdout"
        }
      ]
    },
    {
      "cell_type": "code",
      "metadata": {
        "colab": {
          "base_uri": "https://localhost:8080/"
        },
        "id": "6wiJIr6nWvyx",
        "outputId": "5485c772-89ac-46ef-b3df-9d2edfaab7b7"
      },
      "source": [
        "!mkdir DataSet\n",
        "!gcsfuse --implicit-dirs spade_dataset DataSet"
      ],
      "execution_count": 5,
      "outputs": [
        {
          "output_type": "stream",
          "text": [
            "2021/04/28 12:01:38.881113 Using mount point: /content/DataSet\n",
            "2021/04/28 12:01:38.889555 Opening GCS connection...\n",
            "2021/04/28 12:01:39.084889 Mounting file system \"spade_dataset\"...\n",
            "2021/04/28 12:01:39.099679 File system has been successfully mounted.\n"
          ],
          "name": "stdout"
        }
      ]
    },
    {
      "cell_type": "code",
      "metadata": {
        "colab": {
          "base_uri": "https://localhost:8080/"
        },
        "id": "X6e5P8u3WxAB",
        "outputId": "d711117f-de72-455a-cb85-9db8ac991d3f"
      },
      "source": [
        "import DataProcessing as dp\n",
        "importlib.reload(dp)"
      ],
      "execution_count": 13,
      "outputs": [
        {
          "output_type": "execute_result",
          "data": {
            "text/plain": [
              "<module 'DataProcessing' from '/content/DataProcessing.py'>"
            ]
          },
          "metadata": {
            "tags": []
          },
          "execution_count": 13
        }
      ]
    },
    {
      "cell_type": "code",
      "metadata": {
        "id": "sMAysEwfW21b"
      },
      "source": [
        "config = yaml.load(Path(\"config.yml\").read_text(), Loader=yaml.SafeLoader)"
      ],
      "execution_count": 14,
      "outputs": []
    },
    {
      "cell_type": "markdown",
      "metadata": {
        "id": "GjCvgejeawkY"
      },
      "source": [
        "# Processing and writing cityscape images"
      ]
    },
    {
      "cell_type": "code",
      "metadata": {
        "id": "ik2tUCOHW6EF"
      },
      "source": [
        "bucket_name = config[\"bucket_name\"] \n",
        "set_type = \"val\"\n",
        "writer = dp.DataWriter(bucket_name, config, set_type)"
      ],
      "execution_count": 15,
      "outputs": []
    },
    {
      "cell_type": "code",
      "metadata": {
        "colab": {
          "base_uri": "https://localhost:8080/"
        },
        "id": "kdgKcHZxW7LE",
        "outputId": "cd5d5fdb-14f8-4548-860e-0c5ac2b31c73"
      },
      "source": [
        "writer.process_files()\n",
        "writer.write_files()"
      ],
      "execution_count": 16,
      "outputs": [
        {
          "output_type": "stream",
          "text": [
            "Start writing files\n",
            "Number of samples in dataset: 500\n",
            "Finished writing files in:  143.57651257514954s\n"
          ],
          "name": "stdout"
        }
      ]
    },
    {
      "cell_type": "markdown",
      "metadata": {
        "id": "qAlJyYW3XO4t"
      },
      "source": [
        "# Reading files"
      ]
    },
    {
      "cell_type": "markdown",
      "metadata": {
        "id": "uI1nInOfXXNW"
      },
      "source": [
        "An example of the cityscape dataset looks as follows:\n",
        "\n",
        "\n",
        "\n",
        "```\n",
        "{\n",
        "  'label': <tf.Tensor: shape=(), dtype=string, numpy=b'frankfurt_000000_000294'>, \n",
        "  'subset': <tf.Tensor: shape=(), dtype=string, numpy=b'val'>, \n",
        "  'img_masked': <tf.Tensor: shape=(300, 300, 3), dtype=uint8, numpy=\n",
        "        array([[[0, 0, 0],\n",
        "              [0, 0, 0],\n",
        "              [0, 0, 0],\n",
        "                ...,\n",
        "              [0, 0, 0],\n",
        "              [0, 0, 0],\n",
        "              [0, 0, 0]]], dtype=uint8)>, \n",
        "  'img_original': <tf.Tensor: shape=(300, 300, 3), dtype=uint8, numpy= \n",
        "        array([[[165, 171, 137],\n",
        "              [135, 143, 113],\n",
        "              [115, 123,  97],\n",
        "                ...,\n",
        "              [ 34,  38,  31],\n",
        "              [ 27,  31,  29],\n",
        "              [ 27,  32,  29]]], dtype=uint8)>\n",
        "}\n",
        "\n",
        "```\n",
        "\n"
      ]
    },
    {
      "cell_type": "code",
      "metadata": {
        "id": "qdxnWDSRW8jW"
      },
      "source": [
        "set_type = \"val\"\n",
        "base_path = \"DataSet/cityscape/processed_data\"\n",
        "reader = dp.DataReader(base_path, set_type)"
      ],
      "execution_count": 17,
      "outputs": []
    },
    {
      "cell_type": "code",
      "metadata": {
        "id": "NwGNqkfJXS9W"
      },
      "source": [
        "reader.read_data_set()\n",
        "data_set = reader.get_dataset()"
      ],
      "execution_count": 18,
      "outputs": []
    },
    {
      "cell_type": "code",
      "metadata": {
        "colab": {
          "base_uri": "https://localhost:8080/"
        },
        "id": "EUX4XJXRXUgr",
        "outputId": "7551bb6f-3fcb-4cf2-8fcf-b605a779363a"
      },
      "source": [
        "for example in data_set.take(1):\n",
        "  print(example.keys())\n",
        "  print(example[\"label\"])\n",
        "  print(example[\"subset\"])\n",
        "\n",
        "  img_masked = example[\"img_masked\"]\n",
        "  img_original = example[\"img_original\"]\n",
        "\n",
        "  \n",
        "  # Check images.\n",
        "  img_masked = Image.fromarray(img_masked.numpy(), 'RGB')\n",
        "  img_masked.save(\"img_masked.jpg\")\n",
        "\n",
        "  img_original = Image.fromarray(img_original.numpy(), 'RGB')\n",
        "  img_original.save(\"img_original.jpg\")\n"
      ],
      "execution_count": 29,
      "outputs": [
        {
          "output_type": "stream",
          "text": [
            "dict_keys(['label', 'subset', 'img_masked', 'img_original'])\n",
            "tf.Tensor(b'frankfurt_000000_000294', shape=(), dtype=string)\n",
            "tf.Tensor(b'val', shape=(), dtype=string)\n"
          ],
          "name": "stdout"
        }
      ]
    }
  ]
}