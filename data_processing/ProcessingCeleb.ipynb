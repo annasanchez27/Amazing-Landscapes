{
  "nbformat": 4,
  "nbformat_minor": 0,
  "metadata": {
    "colab": {
      "name": "ProcessingCeleb.ipynb",
      "provenance": [],
      "collapsed_sections": []
    },
    "kernelspec": {
      "name": "python3",
      "display_name": "Python 3"
    },
    "language_info": {
      "name": "python"
    }
  },
  "cells": [
    {
      "cell_type": "code",
      "metadata": {
        "id": "yK5MLYkTA_p7"
      },
      "source": [
        "! pip install -q tensorflow-io"
      ],
      "execution_count": 1,
      "outputs": []
    },
    {
      "cell_type": "code",
      "metadata": {
        "id": "nJDUSTjRBF5a"
      },
      "source": [
        "import tensorflow_datasets as tfds\n",
        "import matplotlib.pyplot as plt\n",
        "import tensorflow_io as tfio\n",
        "import tensorflow as tf\n",
        "import importlib\n",
        "import yaml\n",
        "\n",
        "from google.colab import auth\n",
        "from pathlib import Path\n",
        "from tqdm import tqdm \n",
        "from PIL import Image\n"
      ],
      "execution_count": 2,
      "outputs": []
    },
    {
      "cell_type": "code",
      "metadata": {
        "id": "N8bOvq16BG_n"
      },
      "source": [
        "auth.authenticate_user()"
      ],
      "execution_count": 3,
      "outputs": []
    },
    {
      "cell_type": "code",
      "metadata": {
        "colab": {
          "base_uri": "https://localhost:8080/"
        },
        "id": "lpmYqkpRBIX8",
        "outputId": "be2ecd10-01da-4d1a-d4e3-5232d0b50700"
      },
      "source": [
        "!echo \"deb http://packages.cloud.google.com/apt gcsfuse-bionic main\" > /etc/apt/sources.list.d/gcsfuse.list\n",
        "!curl https://packages.cloud.google.com/apt/doc/apt-key.gpg | apt-key add -\n",
        "!apt -qq update\n",
        "!apt -qq install gcsfuse"
      ],
      "execution_count": 4,
      "outputs": [
        {
          "output_type": "stream",
          "text": [
            "  % Total    % Received % Xferd  Average Speed   Time    Time     Time  Current\n",
            "                                 Dload  Upload   Total   Spent    Left  Speed\n",
            "\r  0     0    0     0    0     0      0      0 --:--:-- --:--:-- --:--:--     0\r100  2537  100  2537    0     0  84566      0 --:--:-- --:--:-- --:--:-- 81838\r100  2537  100  2537    0     0  84566      0 --:--:-- --:--:-- --:--:-- 81838\n",
            "OK\n",
            "60 packages can be upgraded. Run 'apt list --upgradable' to see them.\n",
            "gcsfuse is already the newest version (0.35.0).\n",
            "The following package was automatically installed and is no longer required:\n",
            "  libnvidia-common-460\n",
            "Use 'apt autoremove' to remove it.\n",
            "0 upgraded, 0 newly installed, 0 to remove and 60 not upgraded.\n"
          ],
          "name": "stdout"
        }
      ]
    },
    {
      "cell_type": "code",
      "metadata": {
        "colab": {
          "base_uri": "https://localhost:8080/"
        },
        "id": "Yr0tVweYBOwG",
        "outputId": "18ee9b62-edd7-4f1e-f905-7e9d660671f6"
      },
      "source": [
        "!mkdir DataSet\n",
        "!gcsfuse --implicit-dirs spade_dataset DataSet"
      ],
      "execution_count": 5,
      "outputs": [
        {
          "output_type": "stream",
          "text": [
            "mkdir: cannot create directory ‘DataSet’: File exists\n",
            "2021/05/11 20:21:22.771644 Using mount point: /content/DataSet\n",
            "2021/05/11 20:21:22.779799 Opening GCS connection...\n",
            "2021/05/11 20:21:23.117324 Mounting file system \"spade_dataset\"...\n",
            "2021/05/11 20:21:23.117822 File system has been successfully mounted.\n"
          ],
          "name": "stdout"
        }
      ]
    },
    {
      "cell_type": "code",
      "metadata": {
        "colab": {
          "base_uri": "https://localhost:8080/"
        },
        "id": "fGHy9TpNBQop",
        "outputId": "b924358b-7249-4a8b-b104-884ba130a43f"
      },
      "source": [
        "import DataProcessing as dp\n",
        "from utils import *\n",
        "importlib.reload(dp)"
      ],
      "execution_count": 6,
      "outputs": [
        {
          "output_type": "execute_result",
          "data": {
            "text/plain": [
              "<module 'DataProcessing' from '/content/DataProcessing.py'>"
            ]
          },
          "metadata": {
            "tags": []
          },
          "execution_count": 6
        }
      ]
    },
    {
      "cell_type": "code",
      "metadata": {
        "id": "PsBPctU9BcSn"
      },
      "source": [
        "config = yaml.load(Path(\"config.yml\").read_text(), Loader=yaml.SafeLoader)"
      ],
      "execution_count": 7,
      "outputs": []
    },
    {
      "cell_type": "code",
      "metadata": {
        "id": "u6e3Ye-DBgR8"
      },
      "source": [
        "bucket_name = config[\"bucket_name\"] \n",
        "set_type = \"\"\n",
        "writer = dp.DataWriter(bucket_name, config, set_type)"
      ],
      "execution_count": 8,
      "outputs": []
    },
    {
      "cell_type": "code",
      "metadata": {
        "colab": {
          "base_uri": "https://localhost:8080/"
        },
        "id": "CUI4VShHBkQe",
        "outputId": "0a888c88-3caf-4fdb-aa66-ac5f0fda05a5"
      },
      "source": [
        "nr_files = 5000 #Number of files to process.\n",
        "writer.process_files_celebmask(nr_files)\n",
        "writer.write_files_celebmask()"
      ],
      "execution_count": 10,
      "outputs": [
        {
          "output_type": "stream",
          "text": [
            "Start writing files\n",
            "Number of samples in dataset: 1000\n",
            "Finished writing files in:  213.15653681755066s\n"
          ],
          "name": "stdout"
        }
      ]
    }
  ]
}