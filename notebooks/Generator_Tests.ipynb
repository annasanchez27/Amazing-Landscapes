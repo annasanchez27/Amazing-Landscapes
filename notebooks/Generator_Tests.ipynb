{
  "nbformat": 4,
  "nbformat_minor": 0,
  "metadata": {
    "colab": {
      "name": "Generator Tests.ipynb",
      "provenance": [],
      "mount_file_id": "1jTL_GEM98yFiqOJAfA41DfbcozmBcbbs",
      "authorship_tag": "ABX9TyPc8PJc8nqvkVlzGrGH+b3Q",
      "include_colab_link": true
    },
    "kernelspec": {
      "name": "python3",
      "display_name": "Python 3"
    },
    "language_info": {
      "name": "python"
    },
    "accelerator": "GPU"
  },
  "cells": [
    {
      "cell_type": "markdown",
      "metadata": {
        "id": "view-in-github",
        "colab_type": "text"
      },
      "source": [
        "<a href=\"https://colab.research.google.com/github/franciscojferrari/Amazing-Landscapes/blob/data-processing/Generator_Tests.ipynb\" target=\"_parent\"><img src=\"https://colab.research.google.com/assets/colab-badge.svg\" alt=\"Open In Colab\"/></a>"
      ]
    },
    {
      "cell_type": "code",
      "metadata": {
        "id": "c5ge_QbB4ifz"
      },
      "source": [
        "# /content/drive/MyDrive/KTH/Deep Learning in DS (DD2424)/Amazing-Landscapes"
      ],
      "execution_count": 1,
      "outputs": []
    },
    {
      "cell_type": "code",
      "metadata": {
        "id": "EvTjGFs645Uf"
      },
      "source": [
        "import os \n",
        "\n",
        "# Set your working directory to a folder in your Google Drive. This way, if your notebook times out,\n",
        "# your files will be saved in your Google Drive!\n",
        "\n",
        "# the base Google Drive directory\n",
        "root_dir = \"/content/drive/My Drive/\"\n",
        "\n",
        "# choose where you want your project files to be saved\n",
        "project_folder = \"KTH/Deep Learning in DS (DD2424)/Amazing-Landscapes/\"\n",
        "os.chdir(root_dir + project_folder)"
      ],
      "execution_count": 2,
      "outputs": []
    },
    {
      "cell_type": "code",
      "metadata": {
        "colab": {
          "base_uri": "https://localhost:8080/"
        },
        "id": "4kqu8gJr5QKk",
        "outputId": "55585b8d-de3f-483d-bc41-a667fcb3317b"
      },
      "source": [
        "!pip install tensorflow_addons"
      ],
      "execution_count": 7,
      "outputs": [
        {
          "output_type": "stream",
          "text": [
            "Collecting tensorflow_addons\n",
            "\u001b[?25l  Downloading https://files.pythonhosted.org/packages/74/e3/56d2fe76f0bb7c88ed9b2a6a557e25e83e252aec08f13de34369cd850a0b/tensorflow_addons-0.12.1-cp37-cp37m-manylinux2010_x86_64.whl (703kB)\n",
            "\r\u001b[K     |▌                               | 10kB 21.1MB/s eta 0:00:01\r\u001b[K     |█                               | 20kB 18.0MB/s eta 0:00:01\r\u001b[K     |█▍                              | 30kB 14.7MB/s eta 0:00:01\r\u001b[K     |█▉                              | 40kB 13.5MB/s eta 0:00:01\r\u001b[K     |██▎                             | 51kB 8.5MB/s eta 0:00:01\r\u001b[K     |██▉                             | 61kB 9.1MB/s eta 0:00:01\r\u001b[K     |███▎                            | 71kB 9.3MB/s eta 0:00:01\r\u001b[K     |███▊                            | 81kB 9.5MB/s eta 0:00:01\r\u001b[K     |████▏                           | 92kB 9.7MB/s eta 0:00:01\r\u001b[K     |████▋                           | 102kB 8.3MB/s eta 0:00:01\r\u001b[K     |█████▏                          | 112kB 8.3MB/s eta 0:00:01\r\u001b[K     |█████▋                          | 122kB 8.3MB/s eta 0:00:01\r\u001b[K     |██████                          | 133kB 8.3MB/s eta 0:00:01\r\u001b[K     |██████▌                         | 143kB 8.3MB/s eta 0:00:01\r\u001b[K     |███████                         | 153kB 8.3MB/s eta 0:00:01\r\u001b[K     |███████▌                        | 163kB 8.3MB/s eta 0:00:01\r\u001b[K     |████████                        | 174kB 8.3MB/s eta 0:00:01\r\u001b[K     |████████▍                       | 184kB 8.3MB/s eta 0:00:01\r\u001b[K     |████████▉                       | 194kB 8.3MB/s eta 0:00:01\r\u001b[K     |█████████▎                      | 204kB 8.3MB/s eta 0:00:01\r\u001b[K     |█████████▉                      | 215kB 8.3MB/s eta 0:00:01\r\u001b[K     |██████████▎                     | 225kB 8.3MB/s eta 0:00:01\r\u001b[K     |██████████▊                     | 235kB 8.3MB/s eta 0:00:01\r\u001b[K     |███████████▏                    | 245kB 8.3MB/s eta 0:00:01\r\u001b[K     |███████████▋                    | 256kB 8.3MB/s eta 0:00:01\r\u001b[K     |████████████▏                   | 266kB 8.3MB/s eta 0:00:01\r\u001b[K     |████████████▋                   | 276kB 8.3MB/s eta 0:00:01\r\u001b[K     |█████████████                   | 286kB 8.3MB/s eta 0:00:01\r\u001b[K     |█████████████▌                  | 296kB 8.3MB/s eta 0:00:01\r\u001b[K     |██████████████                  | 307kB 8.3MB/s eta 0:00:01\r\u001b[K     |██████████████▍                 | 317kB 8.3MB/s eta 0:00:01\r\u001b[K     |███████████████                 | 327kB 8.3MB/s eta 0:00:01\r\u001b[K     |███████████████▍                | 337kB 8.3MB/s eta 0:00:01\r\u001b[K     |███████████████▉                | 348kB 8.3MB/s eta 0:00:01\r\u001b[K     |████████████████▎               | 358kB 8.3MB/s eta 0:00:01\r\u001b[K     |████████████████▊               | 368kB 8.3MB/s eta 0:00:01\r\u001b[K     |█████████████████▎              | 378kB 8.3MB/s eta 0:00:01\r\u001b[K     |█████████████████▊              | 389kB 8.3MB/s eta 0:00:01\r\u001b[K     |██████████████████▏             | 399kB 8.3MB/s eta 0:00:01\r\u001b[K     |██████████████████▋             | 409kB 8.3MB/s eta 0:00:01\r\u001b[K     |███████████████████             | 419kB 8.3MB/s eta 0:00:01\r\u001b[K     |███████████████████▋            | 430kB 8.3MB/s eta 0:00:01\r\u001b[K     |████████████████████            | 440kB 8.3MB/s eta 0:00:01\r\u001b[K     |████████████████████▌           | 450kB 8.3MB/s eta 0:00:01\r\u001b[K     |█████████████████████           | 460kB 8.3MB/s eta 0:00:01\r\u001b[K     |█████████████████████▍          | 471kB 8.3MB/s eta 0:00:01\r\u001b[K     |██████████████████████          | 481kB 8.3MB/s eta 0:00:01\r\u001b[K     |██████████████████████▍         | 491kB 8.3MB/s eta 0:00:01\r\u001b[K     |██████████████████████▉         | 501kB 8.3MB/s eta 0:00:01\r\u001b[K     |███████████████████████▎        | 512kB 8.3MB/s eta 0:00:01\r\u001b[K     |███████████████████████▊        | 522kB 8.3MB/s eta 0:00:01\r\u001b[K     |████████████████████████▎       | 532kB 8.3MB/s eta 0:00:01\r\u001b[K     |████████████████████████▊       | 542kB 8.3MB/s eta 0:00:01\r\u001b[K     |█████████████████████████▏      | 552kB 8.3MB/s eta 0:00:01\r\u001b[K     |█████████████████████████▋      | 563kB 8.3MB/s eta 0:00:01\r\u001b[K     |██████████████████████████      | 573kB 8.3MB/s eta 0:00:01\r\u001b[K     |██████████████████████████▋     | 583kB 8.3MB/s eta 0:00:01\r\u001b[K     |███████████████████████████     | 593kB 8.3MB/s eta 0:00:01\r\u001b[K     |███████████████████████████▌    | 604kB 8.3MB/s eta 0:00:01\r\u001b[K     |████████████████████████████    | 614kB 8.3MB/s eta 0:00:01\r\u001b[K     |████████████████████████████▍   | 624kB 8.3MB/s eta 0:00:01\r\u001b[K     |████████████████████████████▉   | 634kB 8.3MB/s eta 0:00:01\r\u001b[K     |█████████████████████████████▍  | 645kB 8.3MB/s eta 0:00:01\r\u001b[K     |█████████████████████████████▉  | 655kB 8.3MB/s eta 0:00:01\r\u001b[K     |██████████████████████████████▎ | 665kB 8.3MB/s eta 0:00:01\r\u001b[K     |██████████████████████████████▊ | 675kB 8.3MB/s eta 0:00:01\r\u001b[K     |███████████████████████████████▏| 686kB 8.3MB/s eta 0:00:01\r\u001b[K     |███████████████████████████████▊| 696kB 8.3MB/s eta 0:00:01\r\u001b[K     |████████████████████████████████| 706kB 8.3MB/s \n",
            "\u001b[?25hRequirement already satisfied: typeguard>=2.7 in /usr/local/lib/python3.7/dist-packages (from tensorflow_addons) (2.7.1)\n",
            "Installing collected packages: tensorflow-addons\n",
            "Successfully installed tensorflow-addons-0.12.1\n"
          ],
          "name": "stdout"
        }
      ]
    },
    {
      "cell_type": "code",
      "metadata": {
        "id": "_AEbO0i348wR"
      },
      "source": [
        "from generator.layers import *"
      ],
      "execution_count": 11,
      "outputs": []
    },
    {
      "cell_type": "code",
      "metadata": {
        "id": "u9MAiGbJ5FAY"
      },
      "source": [
        ""
      ],
      "execution_count": null,
      "outputs": []
    }
  ]
}